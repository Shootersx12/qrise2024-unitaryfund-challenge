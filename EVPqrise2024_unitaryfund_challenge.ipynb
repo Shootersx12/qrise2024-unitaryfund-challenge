{
  "cells": [
    {
      "cell_type": "code",
      "execution_count": null,
      "metadata": {
        "colab": {
          "base_uri": "https://localhost:8080/"
        },
        "id": "IiBAzaG2kDrd",
        "outputId": "068bb169-c369-4b0d-cdf6-47429199db68"
      },
      "outputs": [
        {
          "output_type": "stream",
          "name": "stdout",
          "text": [
            "Requirement already satisfied: mitiq in /usr/local/lib/python3.10/dist-packages (0.35.0)\n",
            "Requirement already satisfied: numpy>=1.22.0 in /usr/local/lib/python3.10/dist-packages (from mitiq) (1.25.2)\n",
            "Requirement already satisfied: scipy<=1.11.4,>=1.5.0 in /usr/local/lib/python3.10/dist-packages (from mitiq) (1.11.4)\n",
            "Requirement already satisfied: cirq<1.4.0,>=1.0.0 in /usr/local/lib/python3.10/dist-packages (from mitiq) (1.3.0)\n",
            "Requirement already satisfied: tabulate in /usr/local/lib/python3.10/dist-packages (from mitiq) (0.9.0)\n",
            "Requirement already satisfied: cirq-aqt==1.3.0 in /usr/local/lib/python3.10/dist-packages (from cirq<1.4.0,>=1.0.0->mitiq) (1.3.0)\n",
            "Requirement already satisfied: cirq-core==1.3.0 in /usr/local/lib/python3.10/dist-packages (from cirq<1.4.0,>=1.0.0->mitiq) (1.3.0)\n",
            "Requirement already satisfied: cirq-ft==1.3.0 in /usr/local/lib/python3.10/dist-packages (from cirq<1.4.0,>=1.0.0->mitiq) (1.3.0)\n",
            "Requirement already satisfied: cirq-google==1.3.0 in /usr/local/lib/python3.10/dist-packages (from cirq<1.4.0,>=1.0.0->mitiq) (1.3.0)\n",
            "Requirement already satisfied: cirq-ionq==1.3.0 in /usr/local/lib/python3.10/dist-packages (from cirq<1.4.0,>=1.0.0->mitiq) (1.3.0)\n",
            "Requirement already satisfied: cirq-pasqal==1.3.0 in /usr/local/lib/python3.10/dist-packages (from cirq<1.4.0,>=1.0.0->mitiq) (1.3.0)\n",
            "Requirement already satisfied: cirq-rigetti==1.3.0 in /usr/local/lib/python3.10/dist-packages (from cirq<1.4.0,>=1.0.0->mitiq) (1.3.0)\n",
            "Requirement already satisfied: cirq-web==1.3.0 in /usr/local/lib/python3.10/dist-packages (from cirq<1.4.0,>=1.0.0->mitiq) (1.3.0)\n",
            "Requirement already satisfied: requests~=2.18 in /usr/local/lib/python3.10/dist-packages (from cirq-aqt==1.3.0->cirq<1.4.0,>=1.0.0->mitiq) (2.31.0)\n",
            "Requirement already satisfied: duet~=0.2.8 in /usr/local/lib/python3.10/dist-packages (from cirq-core==1.3.0->cirq<1.4.0,>=1.0.0->mitiq) (0.2.9)\n",
            "Requirement already satisfied: matplotlib~=3.0 in /usr/local/lib/python3.10/dist-packages (from cirq-core==1.3.0->cirq<1.4.0,>=1.0.0->mitiq) (3.7.1)\n",
            "Requirement already satisfied: networkx>=2.4 in /usr/local/lib/python3.10/dist-packages (from cirq-core==1.3.0->cirq<1.4.0,>=1.0.0->mitiq) (3.3)\n",
            "Requirement already satisfied: pandas in /usr/local/lib/python3.10/dist-packages (from cirq-core==1.3.0->cirq<1.4.0,>=1.0.0->mitiq) (2.0.3)\n",
            "Requirement already satisfied: sortedcontainers~=2.0 in /usr/local/lib/python3.10/dist-packages (from cirq-core==1.3.0->cirq<1.4.0,>=1.0.0->mitiq) (2.4.0)\n",
            "Requirement already satisfied: sympy in /usr/local/lib/python3.10/dist-packages (from cirq-core==1.3.0->cirq<1.4.0,>=1.0.0->mitiq) (1.12)\n",
            "Requirement already satisfied: typing-extensions>=4.2 in /usr/local/lib/python3.10/dist-packages (from cirq-core==1.3.0->cirq<1.4.0,>=1.0.0->mitiq) (4.11.0)\n",
            "Requirement already satisfied: tqdm in /usr/local/lib/python3.10/dist-packages (from cirq-core==1.3.0->cirq<1.4.0,>=1.0.0->mitiq) (4.66.2)\n",
            "Requirement already satisfied: attrs in /usr/local/lib/python3.10/dist-packages (from cirq-ft==1.3.0->cirq<1.4.0,>=1.0.0->mitiq) (21.4.0)\n",
            "Requirement already satisfied: cachetools>=5.3 in /usr/local/lib/python3.10/dist-packages (from cirq-ft==1.3.0->cirq<1.4.0,>=1.0.0->mitiq) (5.3.3)\n",
            "Requirement already satisfied: ipywidgets in /usr/local/lib/python3.10/dist-packages (from cirq-ft==1.3.0->cirq<1.4.0,>=1.0.0->mitiq) (7.7.1)\n",
            "Requirement already satisfied: nbconvert in /usr/local/lib/python3.10/dist-packages (from cirq-ft==1.3.0->cirq<1.4.0,>=1.0.0->mitiq) (6.5.4)\n",
            "Requirement already satisfied: nbformat in /usr/local/lib/python3.10/dist-packages (from cirq-ft==1.3.0->cirq<1.4.0,>=1.0.0->mitiq) (5.10.4)\n",
            "Requirement already satisfied: google-api-core[grpc]>=1.14.0 in /usr/local/lib/python3.10/dist-packages (from cirq-google==1.3.0->cirq<1.4.0,>=1.0.0->mitiq) (2.11.1)\n",
            "Requirement already satisfied: proto-plus>=1.20.0 in /usr/local/lib/python3.10/dist-packages (from cirq-google==1.3.0->cirq<1.4.0,>=1.0.0->mitiq) (1.23.0)\n",
            "Requirement already satisfied: protobuf>=3.15.0 in /usr/local/lib/python3.10/dist-packages (from cirq-google==1.3.0->cirq<1.4.0,>=1.0.0->mitiq) (3.20.3)\n",
            "Requirement already satisfied: pyquil<4.0.0,>=3.2.0 in /usr/local/lib/python3.10/dist-packages (from cirq-rigetti==1.3.0->cirq<1.4.0,>=1.0.0->mitiq) (3.5.4)\n",
            "Requirement already satisfied: googleapis-common-protos<2.0.dev0,>=1.56.2 in /usr/local/lib/python3.10/dist-packages (from google-api-core[grpc]>=1.14.0->cirq-google==1.3.0->cirq<1.4.0,>=1.0.0->mitiq) (1.63.0)\n",
            "Requirement already satisfied: google-auth<3.0.dev0,>=2.14.1 in /usr/local/lib/python3.10/dist-packages (from google-api-core[grpc]>=1.14.0->cirq-google==1.3.0->cirq<1.4.0,>=1.0.0->mitiq) (2.27.0)\n",
            "Requirement already satisfied: grpcio<2.0dev,>=1.33.2 in /usr/local/lib/python3.10/dist-packages (from google-api-core[grpc]>=1.14.0->cirq-google==1.3.0->cirq<1.4.0,>=1.0.0->mitiq) (1.62.1)\n",
            "Requirement already satisfied: grpcio-status<2.0.dev0,>=1.33.2 in /usr/local/lib/python3.10/dist-packages (from google-api-core[grpc]>=1.14.0->cirq-google==1.3.0->cirq<1.4.0,>=1.0.0->mitiq) (1.48.2)\n",
            "Requirement already satisfied: contourpy>=1.0.1 in /usr/local/lib/python3.10/dist-packages (from matplotlib~=3.0->cirq-core==1.3.0->cirq<1.4.0,>=1.0.0->mitiq) (1.2.1)\n",
            "Requirement already satisfied: cycler>=0.10 in /usr/local/lib/python3.10/dist-packages (from matplotlib~=3.0->cirq-core==1.3.0->cirq<1.4.0,>=1.0.0->mitiq) (0.12.1)\n",
            "Requirement already satisfied: fonttools>=4.22.0 in /usr/local/lib/python3.10/dist-packages (from matplotlib~=3.0->cirq-core==1.3.0->cirq<1.4.0,>=1.0.0->mitiq) (4.51.0)\n",
            "Requirement already satisfied: kiwisolver>=1.0.1 in /usr/local/lib/python3.10/dist-packages (from matplotlib~=3.0->cirq-core==1.3.0->cirq<1.4.0,>=1.0.0->mitiq) (1.4.5)\n",
            "Requirement already satisfied: packaging>=20.0 in /usr/local/lib/python3.10/dist-packages (from matplotlib~=3.0->cirq-core==1.3.0->cirq<1.4.0,>=1.0.0->mitiq) (24.0)\n",
            "Requirement already satisfied: pillow>=6.2.0 in /usr/local/lib/python3.10/dist-packages (from matplotlib~=3.0->cirq-core==1.3.0->cirq<1.4.0,>=1.0.0->mitiq) (9.4.0)\n",
            "Requirement already satisfied: pyparsing>=2.3.1 in /usr/local/lib/python3.10/dist-packages (from matplotlib~=3.0->cirq-core==1.3.0->cirq<1.4.0,>=1.0.0->mitiq) (3.1.2)\n",
            "Requirement already satisfied: python-dateutil>=2.7 in /usr/local/lib/python3.10/dist-packages (from matplotlib~=3.0->cirq-core==1.3.0->cirq<1.4.0,>=1.0.0->mitiq) (2.8.2)\n",
            "Requirement already satisfied: deprecated<2.0.0,>=1.2.13 in /usr/local/lib/python3.10/dist-packages (from pyquil<4.0.0,>=3.2.0->cirq-rigetti==1.3.0->cirq<1.4.0,>=1.0.0->mitiq) (1.2.14)\n",
            "Requirement already satisfied: lark<0.12.0,>=0.11.1 in /usr/local/lib/python3.10/dist-packages (from pyquil<4.0.0,>=3.2.0->cirq-rigetti==1.3.0->cirq<1.4.0,>=1.0.0->mitiq) (0.11.3)\n",
            "Requirement already satisfied: qcs-api-client<0.22.0,>=0.21.0 in /usr/local/lib/python3.10/dist-packages (from pyquil<4.0.0,>=3.2.0->cirq-rigetti==1.3.0->cirq<1.4.0,>=1.0.0->mitiq) (0.21.6)\n",
            "Requirement already satisfied: rpcq<4.0.0,>=3.10.0 in /usr/local/lib/python3.10/dist-packages (from pyquil<4.0.0,>=3.2.0->cirq-rigetti==1.3.0->cirq<1.4.0,>=1.0.0->mitiq) (3.11.0)\n",
            "Requirement already satisfied: tenacity<9.0.0,>=8.2.2 in /usr/local/lib/python3.10/dist-packages (from pyquil<4.0.0,>=3.2.0->cirq-rigetti==1.3.0->cirq<1.4.0,>=1.0.0->mitiq) (8.2.3)\n",
            "Requirement already satisfied: types-deprecated<2.0.0.0,>=1.2.9.2 in /usr/local/lib/python3.10/dist-packages (from pyquil<4.0.0,>=3.2.0->cirq-rigetti==1.3.0->cirq<1.4.0,>=1.0.0->mitiq) (1.2.9.20240311)\n",
            "Requirement already satisfied: types-python-dateutil<3.0.0,>=2.8.19 in /usr/local/lib/python3.10/dist-packages (from pyquil<4.0.0,>=3.2.0->cirq-rigetti==1.3.0->cirq<1.4.0,>=1.0.0->mitiq) (2.9.0.20240316)\n",
            "Requirement already satisfied: types-retry<0.10.0,>=0.9.9 in /usr/local/lib/python3.10/dist-packages (from pyquil<4.0.0,>=3.2.0->cirq-rigetti==1.3.0->cirq<1.4.0,>=1.0.0->mitiq) (0.9.9.4)\n",
            "Requirement already satisfied: charset-normalizer<4,>=2 in /usr/local/lib/python3.10/dist-packages (from requests~=2.18->cirq-aqt==1.3.0->cirq<1.4.0,>=1.0.0->mitiq) (3.3.2)\n",
            "Requirement already satisfied: idna<4,>=2.5 in /usr/local/lib/python3.10/dist-packages (from requests~=2.18->cirq-aqt==1.3.0->cirq<1.4.0,>=1.0.0->mitiq) (3.6)\n",
            "Requirement already satisfied: urllib3<3,>=1.21.1 in /usr/local/lib/python3.10/dist-packages (from requests~=2.18->cirq-aqt==1.3.0->cirq<1.4.0,>=1.0.0->mitiq) (2.0.7)\n",
            "Requirement already satisfied: certifi>=2017.4.17 in /usr/local/lib/python3.10/dist-packages (from requests~=2.18->cirq-aqt==1.3.0->cirq<1.4.0,>=1.0.0->mitiq) (2024.2.2)\n",
            "Requirement already satisfied: ipykernel>=4.5.1 in /usr/local/lib/python3.10/dist-packages (from ipywidgets->cirq-ft==1.3.0->cirq<1.4.0,>=1.0.0->mitiq) (5.5.6)\n",
            "Requirement already satisfied: ipython-genutils~=0.2.0 in /usr/local/lib/python3.10/dist-packages (from ipywidgets->cirq-ft==1.3.0->cirq<1.4.0,>=1.0.0->mitiq) (0.2.0)\n",
            "Requirement already satisfied: traitlets>=4.3.1 in /usr/local/lib/python3.10/dist-packages (from ipywidgets->cirq-ft==1.3.0->cirq<1.4.0,>=1.0.0->mitiq) (5.7.1)\n",
            "Requirement already satisfied: widgetsnbextension~=3.6.0 in /usr/local/lib/python3.10/dist-packages (from ipywidgets->cirq-ft==1.3.0->cirq<1.4.0,>=1.0.0->mitiq) (3.6.6)\n",
            "Requirement already satisfied: ipython>=4.0.0 in /usr/local/lib/python3.10/dist-packages (from ipywidgets->cirq-ft==1.3.0->cirq<1.4.0,>=1.0.0->mitiq) (7.34.0)\n",
            "Requirement already satisfied: jupyterlab-widgets>=1.0.0 in /usr/local/lib/python3.10/dist-packages (from ipywidgets->cirq-ft==1.3.0->cirq<1.4.0,>=1.0.0->mitiq) (3.0.10)\n",
            "Requirement already satisfied: lxml in /usr/local/lib/python3.10/dist-packages (from nbconvert->cirq-ft==1.3.0->cirq<1.4.0,>=1.0.0->mitiq) (4.9.4)\n",
            "Requirement already satisfied: beautifulsoup4 in /usr/local/lib/python3.10/dist-packages (from nbconvert->cirq-ft==1.3.0->cirq<1.4.0,>=1.0.0->mitiq) (4.12.3)\n",
            "Requirement already satisfied: bleach in /usr/local/lib/python3.10/dist-packages (from nbconvert->cirq-ft==1.3.0->cirq<1.4.0,>=1.0.0->mitiq) (6.1.0)\n",
            "Requirement already satisfied: defusedxml in /usr/local/lib/python3.10/dist-packages (from nbconvert->cirq-ft==1.3.0->cirq<1.4.0,>=1.0.0->mitiq) (0.7.1)\n",
            "Requirement already satisfied: entrypoints>=0.2.2 in /usr/local/lib/python3.10/dist-packages (from nbconvert->cirq-ft==1.3.0->cirq<1.4.0,>=1.0.0->mitiq) (0.4)\n",
            "Requirement already satisfied: jinja2>=3.0 in /usr/local/lib/python3.10/dist-packages (from nbconvert->cirq-ft==1.3.0->cirq<1.4.0,>=1.0.0->mitiq) (3.1.3)\n",
            "Requirement already satisfied: jupyter-core>=4.7 in /usr/local/lib/python3.10/dist-packages (from nbconvert->cirq-ft==1.3.0->cirq<1.4.0,>=1.0.0->mitiq) (5.7.2)\n",
            "Requirement already satisfied: jupyterlab-pygments in /usr/local/lib/python3.10/dist-packages (from nbconvert->cirq-ft==1.3.0->cirq<1.4.0,>=1.0.0->mitiq) (0.3.0)\n",
            "Requirement already satisfied: MarkupSafe>=2.0 in /usr/local/lib/python3.10/dist-packages (from nbconvert->cirq-ft==1.3.0->cirq<1.4.0,>=1.0.0->mitiq) (2.1.5)\n",
            "Requirement already satisfied: mistune<2,>=0.8.1 in /usr/local/lib/python3.10/dist-packages (from nbconvert->cirq-ft==1.3.0->cirq<1.4.0,>=1.0.0->mitiq) (0.8.4)\n",
            "Requirement already satisfied: nbclient>=0.5.0 in /usr/local/lib/python3.10/dist-packages (from nbconvert->cirq-ft==1.3.0->cirq<1.4.0,>=1.0.0->mitiq) (0.10.0)\n",
            "Requirement already satisfied: pandocfilters>=1.4.1 in /usr/local/lib/python3.10/dist-packages (from nbconvert->cirq-ft==1.3.0->cirq<1.4.0,>=1.0.0->mitiq) (1.5.1)\n",
            "Requirement already satisfied: pygments>=2.4.1 in /usr/local/lib/python3.10/dist-packages (from nbconvert->cirq-ft==1.3.0->cirq<1.4.0,>=1.0.0->mitiq) (2.16.1)\n",
            "Requirement already satisfied: tinycss2 in /usr/local/lib/python3.10/dist-packages (from nbconvert->cirq-ft==1.3.0->cirq<1.4.0,>=1.0.0->mitiq) (1.2.1)\n",
            "Requirement already satisfied: fastjsonschema>=2.15 in /usr/local/lib/python3.10/dist-packages (from nbformat->cirq-ft==1.3.0->cirq<1.4.0,>=1.0.0->mitiq) (2.19.1)\n",
            "Requirement already satisfied: jsonschema>=2.6 in /usr/local/lib/python3.10/dist-packages (from nbformat->cirq-ft==1.3.0->cirq<1.4.0,>=1.0.0->mitiq) (4.17.3)\n",
            "Requirement already satisfied: pytz>=2020.1 in /usr/local/lib/python3.10/dist-packages (from pandas->cirq-core==1.3.0->cirq<1.4.0,>=1.0.0->mitiq) (2023.4)\n",
            "Requirement already satisfied: tzdata>=2022.1 in /usr/local/lib/python3.10/dist-packages (from pandas->cirq-core==1.3.0->cirq<1.4.0,>=1.0.0->mitiq) (2024.1)\n",
            "Requirement already satisfied: mpmath>=0.19 in /usr/local/lib/python3.10/dist-packages (from sympy->cirq-core==1.3.0->cirq<1.4.0,>=1.0.0->mitiq) (1.3.0)\n",
            "Requirement already satisfied: wrapt<2,>=1.10 in /usr/local/lib/python3.10/dist-packages (from deprecated<2.0.0,>=1.2.13->pyquil<4.0.0,>=3.2.0->cirq-rigetti==1.3.0->cirq<1.4.0,>=1.0.0->mitiq) (1.14.1)\n",
            "Requirement already satisfied: pyasn1-modules>=0.2.1 in /usr/local/lib/python3.10/dist-packages (from google-auth<3.0.dev0,>=2.14.1->google-api-core[grpc]>=1.14.0->cirq-google==1.3.0->cirq<1.4.0,>=1.0.0->mitiq) (0.4.0)\n",
            "Requirement already satisfied: rsa<5,>=3.1.4 in /usr/local/lib/python3.10/dist-packages (from google-auth<3.0.dev0,>=2.14.1->google-api-core[grpc]>=1.14.0->cirq-google==1.3.0->cirq<1.4.0,>=1.0.0->mitiq) (4.9)\n",
            "Requirement already satisfied: jupyter-client in /usr/local/lib/python3.10/dist-packages (from ipykernel>=4.5.1->ipywidgets->cirq-ft==1.3.0->cirq<1.4.0,>=1.0.0->mitiq) (6.1.12)\n",
            "Requirement already satisfied: tornado>=4.2 in /usr/local/lib/python3.10/dist-packages (from ipykernel>=4.5.1->ipywidgets->cirq-ft==1.3.0->cirq<1.4.0,>=1.0.0->mitiq) (6.3.3)\n",
            "Requirement already satisfied: setuptools>=18.5 in /usr/local/lib/python3.10/dist-packages (from ipython>=4.0.0->ipywidgets->cirq-ft==1.3.0->cirq<1.4.0,>=1.0.0->mitiq) (67.7.2)\n",
            "Requirement already satisfied: jedi>=0.16 in /usr/local/lib/python3.10/dist-packages (from ipython>=4.0.0->ipywidgets->cirq-ft==1.3.0->cirq<1.4.0,>=1.0.0->mitiq) (0.19.1)\n",
            "Requirement already satisfied: decorator in /usr/local/lib/python3.10/dist-packages (from ipython>=4.0.0->ipywidgets->cirq-ft==1.3.0->cirq<1.4.0,>=1.0.0->mitiq) (4.4.2)\n",
            "Requirement already satisfied: pickleshare in /usr/local/lib/python3.10/dist-packages (from ipython>=4.0.0->ipywidgets->cirq-ft==1.3.0->cirq<1.4.0,>=1.0.0->mitiq) (0.7.5)\n",
            "Requirement already satisfied: prompt-toolkit!=3.0.0,!=3.0.1,<3.1.0,>=2.0.0 in /usr/local/lib/python3.10/dist-packages (from ipython>=4.0.0->ipywidgets->cirq-ft==1.3.0->cirq<1.4.0,>=1.0.0->mitiq) (3.0.43)\n",
            "Requirement already satisfied: backcall in /usr/local/lib/python3.10/dist-packages (from ipython>=4.0.0->ipywidgets->cirq-ft==1.3.0->cirq<1.4.0,>=1.0.0->mitiq) (0.2.0)\n",
            "Requirement already satisfied: matplotlib-inline in /usr/local/lib/python3.10/dist-packages (from ipython>=4.0.0->ipywidgets->cirq-ft==1.3.0->cirq<1.4.0,>=1.0.0->mitiq) (0.1.6)\n",
            "Requirement already satisfied: pexpect>4.3 in /usr/local/lib/python3.10/dist-packages (from ipython>=4.0.0->ipywidgets->cirq-ft==1.3.0->cirq<1.4.0,>=1.0.0->mitiq) (4.9.0)\n",
            "Requirement already satisfied: pyrsistent!=0.17.0,!=0.17.1,!=0.17.2,>=0.14.0 in /usr/local/lib/python3.10/dist-packages (from jsonschema>=2.6->nbformat->cirq-ft==1.3.0->cirq<1.4.0,>=1.0.0->mitiq) (0.20.0)\n",
            "Requirement already satisfied: platformdirs>=2.5 in /usr/local/lib/python3.10/dist-packages (from jupyter-core>=4.7->nbconvert->cirq-ft==1.3.0->cirq<1.4.0,>=1.0.0->mitiq) (4.2.0)\n",
            "Requirement already satisfied: six>=1.5 in /usr/local/lib/python3.10/dist-packages (from python-dateutil>=2.7->matplotlib~=3.0->cirq-core==1.3.0->cirq<1.4.0,>=1.0.0->mitiq) (1.16.0)\n",
            "Requirement already satisfied: PyJWT<3.0.0,>=2.4.0 in /usr/local/lib/python3.10/dist-packages (from qcs-api-client<0.22.0,>=0.21.0->pyquil<4.0.0,>=3.2.0->cirq-rigetti==1.3.0->cirq<1.4.0,>=1.0.0->mitiq) (2.8.0)\n",
            "Requirement already satisfied: httpx<0.24.0,>=0.23.0 in /usr/local/lib/python3.10/dist-packages (from qcs-api-client<0.22.0,>=0.21.0->pyquil<4.0.0,>=3.2.0->cirq-rigetti==1.3.0->cirq<1.4.0,>=1.0.0->mitiq) (0.23.3)\n",
            "Requirement already satisfied: iso8601<2.0.0,>=1.0.2 in /usr/local/lib/python3.10/dist-packages (from qcs-api-client<0.22.0,>=0.21.0->pyquil<4.0.0,>=3.2.0->cirq-rigetti==1.3.0->cirq<1.4.0,>=1.0.0->mitiq) (1.1.0)\n",
            "Requirement already satisfied: pydantic<2.0.0,>=1.7.2 in /usr/local/lib/python3.10/dist-packages (from qcs-api-client<0.22.0,>=0.21.0->pyquil<4.0.0,>=3.2.0->cirq-rigetti==1.3.0->cirq<1.4.0,>=1.0.0->mitiq) (1.10.15)\n",
            "Requirement already satisfied: retrying<2.0.0,>=1.3.3 in /usr/local/lib/python3.10/dist-packages (from qcs-api-client<0.22.0,>=0.21.0->pyquil<4.0.0,>=3.2.0->cirq-rigetti==1.3.0->cirq<1.4.0,>=1.0.0->mitiq) (1.3.4)\n",
            "Requirement already satisfied: rfc3339<7.0,>=6.2 in /usr/local/lib/python3.10/dist-packages (from qcs-api-client<0.22.0,>=0.21.0->pyquil<4.0.0,>=3.2.0->cirq-rigetti==1.3.0->cirq<1.4.0,>=1.0.0->mitiq) (6.2)\n",
            "Requirement already satisfied: toml<0.11.0,>=0.10.2 in /usr/local/lib/python3.10/dist-packages (from qcs-api-client<0.22.0,>=0.21.0->pyquil<4.0.0,>=3.2.0->cirq-rigetti==1.3.0->cirq<1.4.0,>=1.0.0->mitiq) (0.10.2)\n",
            "Requirement already satisfied: msgpack<2.0,>=0.6 in /usr/local/lib/python3.10/dist-packages (from rpcq<4.0.0,>=3.10.0->pyquil<4.0.0,>=3.2.0->cirq-rigetti==1.3.0->cirq<1.4.0,>=1.0.0->mitiq) (1.0.8)\n",
            "Requirement already satisfied: python-rapidjson in /usr/local/lib/python3.10/dist-packages (from rpcq<4.0.0,>=3.10.0->pyquil<4.0.0,>=3.2.0->cirq-rigetti==1.3.0->cirq<1.4.0,>=1.0.0->mitiq) (1.16)\n",
            "Requirement already satisfied: pyzmq>=17 in /usr/local/lib/python3.10/dist-packages (from rpcq<4.0.0,>=3.10.0->pyquil<4.0.0,>=3.2.0->cirq-rigetti==1.3.0->cirq<1.4.0,>=1.0.0->mitiq) (23.2.1)\n",
            "Requirement already satisfied: ruamel.yaml in /usr/local/lib/python3.10/dist-packages (from rpcq<4.0.0,>=3.10.0->pyquil<4.0.0,>=3.2.0->cirq-rigetti==1.3.0->cirq<1.4.0,>=1.0.0->mitiq) (0.18.6)\n",
            "Requirement already satisfied: notebook>=4.4.1 in /usr/local/lib/python3.10/dist-packages (from widgetsnbextension~=3.6.0->ipywidgets->cirq-ft==1.3.0->cirq<1.4.0,>=1.0.0->mitiq) (6.5.5)\n",
            "Requirement already satisfied: soupsieve>1.2 in /usr/local/lib/python3.10/dist-packages (from beautifulsoup4->nbconvert->cirq-ft==1.3.0->cirq<1.4.0,>=1.0.0->mitiq) (2.5)\n",
            "Requirement already satisfied: webencodings in /usr/local/lib/python3.10/dist-packages (from bleach->nbconvert->cirq-ft==1.3.0->cirq<1.4.0,>=1.0.0->mitiq) (0.5.1)\n",
            "Requirement already satisfied: httpcore<0.17.0,>=0.15.0 in /usr/local/lib/python3.10/dist-packages (from httpx<0.24.0,>=0.23.0->qcs-api-client<0.22.0,>=0.21.0->pyquil<4.0.0,>=3.2.0->cirq-rigetti==1.3.0->cirq<1.4.0,>=1.0.0->mitiq) (0.16.3)\n",
            "Requirement already satisfied: rfc3986[idna2008]<2,>=1.3 in /usr/local/lib/python3.10/dist-packages (from httpx<0.24.0,>=0.23.0->qcs-api-client<0.22.0,>=0.21.0->pyquil<4.0.0,>=3.2.0->cirq-rigetti==1.3.0->cirq<1.4.0,>=1.0.0->mitiq) (1.5.0)\n",
            "Requirement already satisfied: sniffio in /usr/local/lib/python3.10/dist-packages (from httpx<0.24.0,>=0.23.0->qcs-api-client<0.22.0,>=0.21.0->pyquil<4.0.0,>=3.2.0->cirq-rigetti==1.3.0->cirq<1.4.0,>=1.0.0->mitiq) (1.3.1)\n",
            "Requirement already satisfied: parso<0.9.0,>=0.8.3 in /usr/local/lib/python3.10/dist-packages (from jedi>=0.16->ipython>=4.0.0->ipywidgets->cirq-ft==1.3.0->cirq<1.4.0,>=1.0.0->mitiq) (0.8.4)\n",
            "Requirement already satisfied: argon2-cffi in /usr/local/lib/python3.10/dist-packages (from notebook>=4.4.1->widgetsnbextension~=3.6.0->ipywidgets->cirq-ft==1.3.0->cirq<1.4.0,>=1.0.0->mitiq) (23.1.0)\n",
            "Requirement already satisfied: nest-asyncio>=1.5 in /usr/local/lib/python3.10/dist-packages (from notebook>=4.4.1->widgetsnbextension~=3.6.0->ipywidgets->cirq-ft==1.3.0->cirq<1.4.0,>=1.0.0->mitiq) (1.6.0)\n",
            "Requirement already satisfied: Send2Trash>=1.8.0 in /usr/local/lib/python3.10/dist-packages (from notebook>=4.4.1->widgetsnbextension~=3.6.0->ipywidgets->cirq-ft==1.3.0->cirq<1.4.0,>=1.0.0->mitiq) (1.8.3)\n",
            "Requirement already satisfied: terminado>=0.8.3 in /usr/local/lib/python3.10/dist-packages (from notebook>=4.4.1->widgetsnbextension~=3.6.0->ipywidgets->cirq-ft==1.3.0->cirq<1.4.0,>=1.0.0->mitiq) (0.18.1)\n",
            "Requirement already satisfied: prometheus-client in /usr/local/lib/python3.10/dist-packages (from notebook>=4.4.1->widgetsnbextension~=3.6.0->ipywidgets->cirq-ft==1.3.0->cirq<1.4.0,>=1.0.0->mitiq) (0.20.0)\n",
            "Requirement already satisfied: nbclassic>=0.4.7 in /usr/local/lib/python3.10/dist-packages (from notebook>=4.4.1->widgetsnbextension~=3.6.0->ipywidgets->cirq-ft==1.3.0->cirq<1.4.0,>=1.0.0->mitiq) (1.0.0)\n",
            "Requirement already satisfied: ptyprocess>=0.5 in /usr/local/lib/python3.10/dist-packages (from pexpect>4.3->ipython>=4.0.0->ipywidgets->cirq-ft==1.3.0->cirq<1.4.0,>=1.0.0->mitiq) (0.7.0)\n",
            "Requirement already satisfied: wcwidth in /usr/local/lib/python3.10/dist-packages (from prompt-toolkit!=3.0.0,!=3.0.1,<3.1.0,>=2.0.0->ipython>=4.0.0->ipywidgets->cirq-ft==1.3.0->cirq<1.4.0,>=1.0.0->mitiq) (0.2.13)\n",
            "Requirement already satisfied: pyasn1<0.7.0,>=0.4.6 in /usr/local/lib/python3.10/dist-packages (from pyasn1-modules>=0.2.1->google-auth<3.0.dev0,>=2.14.1->google-api-core[grpc]>=1.14.0->cirq-google==1.3.0->cirq<1.4.0,>=1.0.0->mitiq) (0.6.0)\n",
            "Requirement already satisfied: ruamel.yaml.clib>=0.2.7 in /usr/local/lib/python3.10/dist-packages (from ruamel.yaml->rpcq<4.0.0,>=3.10.0->pyquil<4.0.0,>=3.2.0->cirq-rigetti==1.3.0->cirq<1.4.0,>=1.0.0->mitiq) (0.2.8)\n",
            "Requirement already satisfied: h11<0.15,>=0.13 in /usr/local/lib/python3.10/dist-packages (from httpcore<0.17.0,>=0.15.0->httpx<0.24.0,>=0.23.0->qcs-api-client<0.22.0,>=0.21.0->pyquil<4.0.0,>=3.2.0->cirq-rigetti==1.3.0->cirq<1.4.0,>=1.0.0->mitiq) (0.14.0)\n",
            "Requirement already satisfied: anyio<5.0,>=3.0 in /usr/local/lib/python3.10/dist-packages (from httpcore<0.17.0,>=0.15.0->httpx<0.24.0,>=0.23.0->qcs-api-client<0.22.0,>=0.21.0->pyquil<4.0.0,>=3.2.0->cirq-rigetti==1.3.0->cirq<1.4.0,>=1.0.0->mitiq) (3.7.1)\n",
            "Requirement already satisfied: jupyter-server>=1.8 in /usr/local/lib/python3.10/dist-packages (from nbclassic>=0.4.7->notebook>=4.4.1->widgetsnbextension~=3.6.0->ipywidgets->cirq-ft==1.3.0->cirq<1.4.0,>=1.0.0->mitiq) (1.24.0)\n",
            "Requirement already satisfied: notebook-shim>=0.2.3 in /usr/local/lib/python3.10/dist-packages (from nbclassic>=0.4.7->notebook>=4.4.1->widgetsnbextension~=3.6.0->ipywidgets->cirq-ft==1.3.0->cirq<1.4.0,>=1.0.0->mitiq) (0.2.4)\n",
            "Requirement already satisfied: argon2-cffi-bindings in /usr/local/lib/python3.10/dist-packages (from argon2-cffi->notebook>=4.4.1->widgetsnbextension~=3.6.0->ipywidgets->cirq-ft==1.3.0->cirq<1.4.0,>=1.0.0->mitiq) (21.2.0)\n",
            "Requirement already satisfied: exceptiongroup in /usr/local/lib/python3.10/dist-packages (from anyio<5.0,>=3.0->httpcore<0.17.0,>=0.15.0->httpx<0.24.0,>=0.23.0->qcs-api-client<0.22.0,>=0.21.0->pyquil<4.0.0,>=3.2.0->cirq-rigetti==1.3.0->cirq<1.4.0,>=1.0.0->mitiq) (1.2.0)\n",
            "Requirement already satisfied: websocket-client in /usr/local/lib/python3.10/dist-packages (from jupyter-server>=1.8->nbclassic>=0.4.7->notebook>=4.4.1->widgetsnbextension~=3.6.0->ipywidgets->cirq-ft==1.3.0->cirq<1.4.0,>=1.0.0->mitiq) (1.7.0)\n",
            "Requirement already satisfied: cffi>=1.0.1 in /usr/local/lib/python3.10/dist-packages (from argon2-cffi-bindings->argon2-cffi->notebook>=4.4.1->widgetsnbextension~=3.6.0->ipywidgets->cirq-ft==1.3.0->cirq<1.4.0,>=1.0.0->mitiq) (1.16.0)\n",
            "Requirement already satisfied: pycparser in /usr/local/lib/python3.10/dist-packages (from cffi>=1.0.1->argon2-cffi-bindings->argon2-cffi->notebook>=4.4.1->widgetsnbextension~=3.6.0->ipywidgets->cirq-ft==1.3.0->cirq<1.4.0,>=1.0.0->mitiq) (2.22)\n"
          ]
        }
      ],
      "source": [
        "pip install mitiq"
      ]
    },
    {
      "cell_type": "code",
      "execution_count": null,
      "metadata": {
        "colab": {
          "base_uri": "https://localhost:8080/"
        },
        "id": "wJmQm3gbmYwv",
        "outputId": "8575613f-4d22-436c-8923-9d4ab8bb7ed9"
      },
      "outputs": [
        {
          "output_type": "stream",
          "name": "stdout",
          "text": [
            "Requirement already satisfied: qiskit in /usr/local/lib/python3.10/dist-packages (1.0.2)\n",
            "Requirement already satisfied: rustworkx>=0.14.0 in /usr/local/lib/python3.10/dist-packages (from qiskit) (0.14.2)\n",
            "Requirement already satisfied: numpy<2,>=1.17 in /usr/local/lib/python3.10/dist-packages (from qiskit) (1.25.2)\n",
            "Requirement already satisfied: scipy>=1.5 in /usr/local/lib/python3.10/dist-packages (from qiskit) (1.11.4)\n",
            "Requirement already satisfied: sympy>=1.3 in /usr/local/lib/python3.10/dist-packages (from qiskit) (1.12)\n",
            "Requirement already satisfied: dill>=0.3 in /usr/local/lib/python3.10/dist-packages (from qiskit) (0.3.8)\n",
            "Requirement already satisfied: python-dateutil>=2.8.0 in /usr/local/lib/python3.10/dist-packages (from qiskit) (2.8.2)\n",
            "Requirement already satisfied: stevedore>=3.0.0 in /usr/local/lib/python3.10/dist-packages (from qiskit) (5.2.0)\n",
            "Requirement already satisfied: typing-extensions in /usr/local/lib/python3.10/dist-packages (from qiskit) (4.11.0)\n",
            "Requirement already satisfied: symengine>=0.11 in /usr/local/lib/python3.10/dist-packages (from qiskit) (0.11.0)\n",
            "Requirement already satisfied: six>=1.5 in /usr/local/lib/python3.10/dist-packages (from python-dateutil>=2.8.0->qiskit) (1.16.0)\n",
            "Requirement already satisfied: pbr!=2.1.0,>=2.0.0 in /usr/local/lib/python3.10/dist-packages (from stevedore>=3.0.0->qiskit) (6.0.0)\n",
            "Requirement already satisfied: mpmath>=0.19 in /usr/local/lib/python3.10/dist-packages (from sympy>=1.3->qiskit) (1.3.0)\n"
          ]
        }
      ],
      "source": [
        "pip install qiskit"
      ]
    },
    {
      "cell_type": "code",
      "execution_count": null,
      "metadata": {
        "colab": {
          "base_uri": "https://localhost:8080/"
        },
        "id": "CKUPXNNtmrOP",
        "outputId": "da8cc186-7b69-49cf-9326-78eb5881a04d"
      },
      "outputs": [
        {
          "output_type": "stream",
          "name": "stdout",
          "text": [
            "Requirement already satisfied: ply in /usr/local/lib/python3.10/dist-packages (3.11)\n"
          ]
        }
      ],
      "source": [
        "pip install ply"
      ]
    },
    {
      "cell_type": "code",
      "execution_count": null,
      "metadata": {
        "colab": {
          "base_uri": "https://localhost:8080/"
        },
        "id": "meO9mOsMm9_6",
        "outputId": "99c19679-6958-4e2c-f51d-9fd227641cf2"
      },
      "outputs": [
        {
          "output_type": "stream",
          "name": "stdout",
          "text": [
            "Requirement already satisfied: cirq in /usr/local/lib/python3.10/dist-packages (1.3.0)\n",
            "Requirement already satisfied: cirq-aqt==1.3.0 in /usr/local/lib/python3.10/dist-packages (from cirq) (1.3.0)\n",
            "Requirement already satisfied: cirq-core==1.3.0 in /usr/local/lib/python3.10/dist-packages (from cirq) (1.3.0)\n",
            "Requirement already satisfied: cirq-ft==1.3.0 in /usr/local/lib/python3.10/dist-packages (from cirq) (1.3.0)\n",
            "Requirement already satisfied: cirq-google==1.3.0 in /usr/local/lib/python3.10/dist-packages (from cirq) (1.3.0)\n",
            "Requirement already satisfied: cirq-ionq==1.3.0 in /usr/local/lib/python3.10/dist-packages (from cirq) (1.3.0)\n",
            "Requirement already satisfied: cirq-pasqal==1.3.0 in /usr/local/lib/python3.10/dist-packages (from cirq) (1.3.0)\n",
            "Requirement already satisfied: cirq-rigetti==1.3.0 in /usr/local/lib/python3.10/dist-packages (from cirq) (1.3.0)\n",
            "Requirement already satisfied: cirq-web==1.3.0 in /usr/local/lib/python3.10/dist-packages (from cirq) (1.3.0)\n",
            "Requirement already satisfied: requests~=2.18 in /usr/local/lib/python3.10/dist-packages (from cirq-aqt==1.3.0->cirq) (2.31.0)\n",
            "Requirement already satisfied: duet~=0.2.8 in /usr/local/lib/python3.10/dist-packages (from cirq-core==1.3.0->cirq) (0.2.9)\n",
            "Requirement already satisfied: matplotlib~=3.0 in /usr/local/lib/python3.10/dist-packages (from cirq-core==1.3.0->cirq) (3.7.1)\n",
            "Requirement already satisfied: networkx>=2.4 in /usr/local/lib/python3.10/dist-packages (from cirq-core==1.3.0->cirq) (3.3)\n",
            "Requirement already satisfied: numpy~=1.16 in /usr/local/lib/python3.10/dist-packages (from cirq-core==1.3.0->cirq) (1.25.2)\n",
            "Requirement already satisfied: pandas in /usr/local/lib/python3.10/dist-packages (from cirq-core==1.3.0->cirq) (2.0.3)\n",
            "Requirement already satisfied: sortedcontainers~=2.0 in /usr/local/lib/python3.10/dist-packages (from cirq-core==1.3.0->cirq) (2.4.0)\n",
            "Requirement already satisfied: scipy in /usr/local/lib/python3.10/dist-packages (from cirq-core==1.3.0->cirq) (1.11.4)\n",
            "Requirement already satisfied: sympy in /usr/local/lib/python3.10/dist-packages (from cirq-core==1.3.0->cirq) (1.12)\n",
            "Requirement already satisfied: typing-extensions>=4.2 in /usr/local/lib/python3.10/dist-packages (from cirq-core==1.3.0->cirq) (4.11.0)\n",
            "Requirement already satisfied: tqdm in /usr/local/lib/python3.10/dist-packages (from cirq-core==1.3.0->cirq) (4.66.2)\n",
            "Requirement already satisfied: attrs in /usr/local/lib/python3.10/dist-packages (from cirq-ft==1.3.0->cirq) (21.4.0)\n",
            "Requirement already satisfied: cachetools>=5.3 in /usr/local/lib/python3.10/dist-packages (from cirq-ft==1.3.0->cirq) (5.3.3)\n",
            "Requirement already satisfied: ipywidgets in /usr/local/lib/python3.10/dist-packages (from cirq-ft==1.3.0->cirq) (7.7.1)\n",
            "Requirement already satisfied: nbconvert in /usr/local/lib/python3.10/dist-packages (from cirq-ft==1.3.0->cirq) (6.5.4)\n",
            "Requirement already satisfied: nbformat in /usr/local/lib/python3.10/dist-packages (from cirq-ft==1.3.0->cirq) (5.10.4)\n",
            "Requirement already satisfied: google-api-core[grpc]>=1.14.0 in /usr/local/lib/python3.10/dist-packages (from cirq-google==1.3.0->cirq) (2.11.1)\n",
            "Requirement already satisfied: proto-plus>=1.20.0 in /usr/local/lib/python3.10/dist-packages (from cirq-google==1.3.0->cirq) (1.23.0)\n",
            "Requirement already satisfied: protobuf>=3.15.0 in /usr/local/lib/python3.10/dist-packages (from cirq-google==1.3.0->cirq) (3.20.3)\n",
            "Requirement already satisfied: pyquil<4.0.0,>=3.2.0 in /usr/local/lib/python3.10/dist-packages (from cirq-rigetti==1.3.0->cirq) (3.5.4)\n",
            "Requirement already satisfied: googleapis-common-protos<2.0.dev0,>=1.56.2 in /usr/local/lib/python3.10/dist-packages (from google-api-core[grpc]>=1.14.0->cirq-google==1.3.0->cirq) (1.63.0)\n",
            "Requirement already satisfied: google-auth<3.0.dev0,>=2.14.1 in /usr/local/lib/python3.10/dist-packages (from google-api-core[grpc]>=1.14.0->cirq-google==1.3.0->cirq) (2.27.0)\n",
            "Requirement already satisfied: grpcio<2.0dev,>=1.33.2 in /usr/local/lib/python3.10/dist-packages (from google-api-core[grpc]>=1.14.0->cirq-google==1.3.0->cirq) (1.62.1)\n",
            "Requirement already satisfied: grpcio-status<2.0.dev0,>=1.33.2 in /usr/local/lib/python3.10/dist-packages (from google-api-core[grpc]>=1.14.0->cirq-google==1.3.0->cirq) (1.48.2)\n",
            "Requirement already satisfied: contourpy>=1.0.1 in /usr/local/lib/python3.10/dist-packages (from matplotlib~=3.0->cirq-core==1.3.0->cirq) (1.2.1)\n",
            "Requirement already satisfied: cycler>=0.10 in /usr/local/lib/python3.10/dist-packages (from matplotlib~=3.0->cirq-core==1.3.0->cirq) (0.12.1)\n",
            "Requirement already satisfied: fonttools>=4.22.0 in /usr/local/lib/python3.10/dist-packages (from matplotlib~=3.0->cirq-core==1.3.0->cirq) (4.51.0)\n",
            "Requirement already satisfied: kiwisolver>=1.0.1 in /usr/local/lib/python3.10/dist-packages (from matplotlib~=3.0->cirq-core==1.3.0->cirq) (1.4.5)\n",
            "Requirement already satisfied: packaging>=20.0 in /usr/local/lib/python3.10/dist-packages (from matplotlib~=3.0->cirq-core==1.3.0->cirq) (24.0)\n",
            "Requirement already satisfied: pillow>=6.2.0 in /usr/local/lib/python3.10/dist-packages (from matplotlib~=3.0->cirq-core==1.3.0->cirq) (9.4.0)\n",
            "Requirement already satisfied: pyparsing>=2.3.1 in /usr/local/lib/python3.10/dist-packages (from matplotlib~=3.0->cirq-core==1.3.0->cirq) (3.1.2)\n",
            "Requirement already satisfied: python-dateutil>=2.7 in /usr/local/lib/python3.10/dist-packages (from matplotlib~=3.0->cirq-core==1.3.0->cirq) (2.8.2)\n",
            "Requirement already satisfied: deprecated<2.0.0,>=1.2.13 in /usr/local/lib/python3.10/dist-packages (from pyquil<4.0.0,>=3.2.0->cirq-rigetti==1.3.0->cirq) (1.2.14)\n",
            "Requirement already satisfied: lark<0.12.0,>=0.11.1 in /usr/local/lib/python3.10/dist-packages (from pyquil<4.0.0,>=3.2.0->cirq-rigetti==1.3.0->cirq) (0.11.3)\n",
            "Requirement already satisfied: qcs-api-client<0.22.0,>=0.21.0 in /usr/local/lib/python3.10/dist-packages (from pyquil<4.0.0,>=3.2.0->cirq-rigetti==1.3.0->cirq) (0.21.6)\n",
            "Requirement already satisfied: rpcq<4.0.0,>=3.10.0 in /usr/local/lib/python3.10/dist-packages (from pyquil<4.0.0,>=3.2.0->cirq-rigetti==1.3.0->cirq) (3.11.0)\n",
            "Requirement already satisfied: tenacity<9.0.0,>=8.2.2 in /usr/local/lib/python3.10/dist-packages (from pyquil<4.0.0,>=3.2.0->cirq-rigetti==1.3.0->cirq) (8.2.3)\n",
            "Requirement already satisfied: types-deprecated<2.0.0.0,>=1.2.9.2 in /usr/local/lib/python3.10/dist-packages (from pyquil<4.0.0,>=3.2.0->cirq-rigetti==1.3.0->cirq) (1.2.9.20240311)\n",
            "Requirement already satisfied: types-python-dateutil<3.0.0,>=2.8.19 in /usr/local/lib/python3.10/dist-packages (from pyquil<4.0.0,>=3.2.0->cirq-rigetti==1.3.0->cirq) (2.9.0.20240316)\n",
            "Requirement already satisfied: types-retry<0.10.0,>=0.9.9 in /usr/local/lib/python3.10/dist-packages (from pyquil<4.0.0,>=3.2.0->cirq-rigetti==1.3.0->cirq) (0.9.9.4)\n",
            "Requirement already satisfied: charset-normalizer<4,>=2 in /usr/local/lib/python3.10/dist-packages (from requests~=2.18->cirq-aqt==1.3.0->cirq) (3.3.2)\n",
            "Requirement already satisfied: idna<4,>=2.5 in /usr/local/lib/python3.10/dist-packages (from requests~=2.18->cirq-aqt==1.3.0->cirq) (3.6)\n",
            "Requirement already satisfied: urllib3<3,>=1.21.1 in /usr/local/lib/python3.10/dist-packages (from requests~=2.18->cirq-aqt==1.3.0->cirq) (2.0.7)\n",
            "Requirement already satisfied: certifi>=2017.4.17 in /usr/local/lib/python3.10/dist-packages (from requests~=2.18->cirq-aqt==1.3.0->cirq) (2024.2.2)\n",
            "Requirement already satisfied: ipykernel>=4.5.1 in /usr/local/lib/python3.10/dist-packages (from ipywidgets->cirq-ft==1.3.0->cirq) (5.5.6)\n",
            "Requirement already satisfied: ipython-genutils~=0.2.0 in /usr/local/lib/python3.10/dist-packages (from ipywidgets->cirq-ft==1.3.0->cirq) (0.2.0)\n",
            "Requirement already satisfied: traitlets>=4.3.1 in /usr/local/lib/python3.10/dist-packages (from ipywidgets->cirq-ft==1.3.0->cirq) (5.7.1)\n",
            "Requirement already satisfied: widgetsnbextension~=3.6.0 in /usr/local/lib/python3.10/dist-packages (from ipywidgets->cirq-ft==1.3.0->cirq) (3.6.6)\n",
            "Requirement already satisfied: ipython>=4.0.0 in /usr/local/lib/python3.10/dist-packages (from ipywidgets->cirq-ft==1.3.0->cirq) (7.34.0)\n",
            "Requirement already satisfied: jupyterlab-widgets>=1.0.0 in /usr/local/lib/python3.10/dist-packages (from ipywidgets->cirq-ft==1.3.0->cirq) (3.0.10)\n",
            "Requirement already satisfied: lxml in /usr/local/lib/python3.10/dist-packages (from nbconvert->cirq-ft==1.3.0->cirq) (4.9.4)\n",
            "Requirement already satisfied: beautifulsoup4 in /usr/local/lib/python3.10/dist-packages (from nbconvert->cirq-ft==1.3.0->cirq) (4.12.3)\n",
            "Requirement already satisfied: bleach in /usr/local/lib/python3.10/dist-packages (from nbconvert->cirq-ft==1.3.0->cirq) (6.1.0)\n",
            "Requirement already satisfied: defusedxml in /usr/local/lib/python3.10/dist-packages (from nbconvert->cirq-ft==1.3.0->cirq) (0.7.1)\n",
            "Requirement already satisfied: entrypoints>=0.2.2 in /usr/local/lib/python3.10/dist-packages (from nbconvert->cirq-ft==1.3.0->cirq) (0.4)\n",
            "Requirement already satisfied: jinja2>=3.0 in /usr/local/lib/python3.10/dist-packages (from nbconvert->cirq-ft==1.3.0->cirq) (3.1.3)\n",
            "Requirement already satisfied: jupyter-core>=4.7 in /usr/local/lib/python3.10/dist-packages (from nbconvert->cirq-ft==1.3.0->cirq) (5.7.2)\n",
            "Requirement already satisfied: jupyterlab-pygments in /usr/local/lib/python3.10/dist-packages (from nbconvert->cirq-ft==1.3.0->cirq) (0.3.0)\n",
            "Requirement already satisfied: MarkupSafe>=2.0 in /usr/local/lib/python3.10/dist-packages (from nbconvert->cirq-ft==1.3.0->cirq) (2.1.5)\n",
            "Requirement already satisfied: mistune<2,>=0.8.1 in /usr/local/lib/python3.10/dist-packages (from nbconvert->cirq-ft==1.3.0->cirq) (0.8.4)\n",
            "Requirement already satisfied: nbclient>=0.5.0 in /usr/local/lib/python3.10/dist-packages (from nbconvert->cirq-ft==1.3.0->cirq) (0.10.0)\n",
            "Requirement already satisfied: pandocfilters>=1.4.1 in /usr/local/lib/python3.10/dist-packages (from nbconvert->cirq-ft==1.3.0->cirq) (1.5.1)\n",
            "Requirement already satisfied: pygments>=2.4.1 in /usr/local/lib/python3.10/dist-packages (from nbconvert->cirq-ft==1.3.0->cirq) (2.16.1)\n",
            "Requirement already satisfied: tinycss2 in /usr/local/lib/python3.10/dist-packages (from nbconvert->cirq-ft==1.3.0->cirq) (1.2.1)\n",
            "Requirement already satisfied: fastjsonschema>=2.15 in /usr/local/lib/python3.10/dist-packages (from nbformat->cirq-ft==1.3.0->cirq) (2.19.1)\n",
            "Requirement already satisfied: jsonschema>=2.6 in /usr/local/lib/python3.10/dist-packages (from nbformat->cirq-ft==1.3.0->cirq) (4.17.3)\n",
            "Requirement already satisfied: pytz>=2020.1 in /usr/local/lib/python3.10/dist-packages (from pandas->cirq-core==1.3.0->cirq) (2023.4)\n",
            "Requirement already satisfied: tzdata>=2022.1 in /usr/local/lib/python3.10/dist-packages (from pandas->cirq-core==1.3.0->cirq) (2024.1)\n",
            "Requirement already satisfied: mpmath>=0.19 in /usr/local/lib/python3.10/dist-packages (from sympy->cirq-core==1.3.0->cirq) (1.3.0)\n",
            "Requirement already satisfied: wrapt<2,>=1.10 in /usr/local/lib/python3.10/dist-packages (from deprecated<2.0.0,>=1.2.13->pyquil<4.0.0,>=3.2.0->cirq-rigetti==1.3.0->cirq) (1.14.1)\n",
            "Requirement already satisfied: pyasn1-modules>=0.2.1 in /usr/local/lib/python3.10/dist-packages (from google-auth<3.0.dev0,>=2.14.1->google-api-core[grpc]>=1.14.0->cirq-google==1.3.0->cirq) (0.4.0)\n",
            "Requirement already satisfied: rsa<5,>=3.1.4 in /usr/local/lib/python3.10/dist-packages (from google-auth<3.0.dev0,>=2.14.1->google-api-core[grpc]>=1.14.0->cirq-google==1.3.0->cirq) (4.9)\n",
            "Requirement already satisfied: jupyter-client in /usr/local/lib/python3.10/dist-packages (from ipykernel>=4.5.1->ipywidgets->cirq-ft==1.3.0->cirq) (6.1.12)\n",
            "Requirement already satisfied: tornado>=4.2 in /usr/local/lib/python3.10/dist-packages (from ipykernel>=4.5.1->ipywidgets->cirq-ft==1.3.0->cirq) (6.3.3)\n",
            "Requirement already satisfied: setuptools>=18.5 in /usr/local/lib/python3.10/dist-packages (from ipython>=4.0.0->ipywidgets->cirq-ft==1.3.0->cirq) (67.7.2)\n",
            "Requirement already satisfied: jedi>=0.16 in /usr/local/lib/python3.10/dist-packages (from ipython>=4.0.0->ipywidgets->cirq-ft==1.3.0->cirq) (0.19.1)\n",
            "Requirement already satisfied: decorator in /usr/local/lib/python3.10/dist-packages (from ipython>=4.0.0->ipywidgets->cirq-ft==1.3.0->cirq) (4.4.2)\n",
            "Requirement already satisfied: pickleshare in /usr/local/lib/python3.10/dist-packages (from ipython>=4.0.0->ipywidgets->cirq-ft==1.3.0->cirq) (0.7.5)\n",
            "Requirement already satisfied: prompt-toolkit!=3.0.0,!=3.0.1,<3.1.0,>=2.0.0 in /usr/local/lib/python3.10/dist-packages (from ipython>=4.0.0->ipywidgets->cirq-ft==1.3.0->cirq) (3.0.43)\n",
            "Requirement already satisfied: backcall in /usr/local/lib/python3.10/dist-packages (from ipython>=4.0.0->ipywidgets->cirq-ft==1.3.0->cirq) (0.2.0)\n",
            "Requirement already satisfied: matplotlib-inline in /usr/local/lib/python3.10/dist-packages (from ipython>=4.0.0->ipywidgets->cirq-ft==1.3.0->cirq) (0.1.6)\n",
            "Requirement already satisfied: pexpect>4.3 in /usr/local/lib/python3.10/dist-packages (from ipython>=4.0.0->ipywidgets->cirq-ft==1.3.0->cirq) (4.9.0)\n",
            "Requirement already satisfied: pyrsistent!=0.17.0,!=0.17.1,!=0.17.2,>=0.14.0 in /usr/local/lib/python3.10/dist-packages (from jsonschema>=2.6->nbformat->cirq-ft==1.3.0->cirq) (0.20.0)\n",
            "Requirement already satisfied: platformdirs>=2.5 in /usr/local/lib/python3.10/dist-packages (from jupyter-core>=4.7->nbconvert->cirq-ft==1.3.0->cirq) (4.2.0)\n",
            "Requirement already satisfied: six>=1.5 in /usr/local/lib/python3.10/dist-packages (from python-dateutil>=2.7->matplotlib~=3.0->cirq-core==1.3.0->cirq) (1.16.0)\n",
            "Requirement already satisfied: PyJWT<3.0.0,>=2.4.0 in /usr/local/lib/python3.10/dist-packages (from qcs-api-client<0.22.0,>=0.21.0->pyquil<4.0.0,>=3.2.0->cirq-rigetti==1.3.0->cirq) (2.8.0)\n",
            "Requirement already satisfied: httpx<0.24.0,>=0.23.0 in /usr/local/lib/python3.10/dist-packages (from qcs-api-client<0.22.0,>=0.21.0->pyquil<4.0.0,>=3.2.0->cirq-rigetti==1.3.0->cirq) (0.23.3)\n",
            "Requirement already satisfied: iso8601<2.0.0,>=1.0.2 in /usr/local/lib/python3.10/dist-packages (from qcs-api-client<0.22.0,>=0.21.0->pyquil<4.0.0,>=3.2.0->cirq-rigetti==1.3.0->cirq) (1.1.0)\n",
            "Requirement already satisfied: pydantic<2.0.0,>=1.7.2 in /usr/local/lib/python3.10/dist-packages (from qcs-api-client<0.22.0,>=0.21.0->pyquil<4.0.0,>=3.2.0->cirq-rigetti==1.3.0->cirq) (1.10.15)\n",
            "Requirement already satisfied: retrying<2.0.0,>=1.3.3 in /usr/local/lib/python3.10/dist-packages (from qcs-api-client<0.22.0,>=0.21.0->pyquil<4.0.0,>=3.2.0->cirq-rigetti==1.3.0->cirq) (1.3.4)\n",
            "Requirement already satisfied: rfc3339<7.0,>=6.2 in /usr/local/lib/python3.10/dist-packages (from qcs-api-client<0.22.0,>=0.21.0->pyquil<4.0.0,>=3.2.0->cirq-rigetti==1.3.0->cirq) (6.2)\n",
            "Requirement already satisfied: toml<0.11.0,>=0.10.2 in /usr/local/lib/python3.10/dist-packages (from qcs-api-client<0.22.0,>=0.21.0->pyquil<4.0.0,>=3.2.0->cirq-rigetti==1.3.0->cirq) (0.10.2)\n",
            "Requirement already satisfied: msgpack<2.0,>=0.6 in /usr/local/lib/python3.10/dist-packages (from rpcq<4.0.0,>=3.10.0->pyquil<4.0.0,>=3.2.0->cirq-rigetti==1.3.0->cirq) (1.0.8)\n",
            "Requirement already satisfied: python-rapidjson in /usr/local/lib/python3.10/dist-packages (from rpcq<4.0.0,>=3.10.0->pyquil<4.0.0,>=3.2.0->cirq-rigetti==1.3.0->cirq) (1.16)\n",
            "Requirement already satisfied: pyzmq>=17 in /usr/local/lib/python3.10/dist-packages (from rpcq<4.0.0,>=3.10.0->pyquil<4.0.0,>=3.2.0->cirq-rigetti==1.3.0->cirq) (23.2.1)\n",
            "Requirement already satisfied: ruamel.yaml in /usr/local/lib/python3.10/dist-packages (from rpcq<4.0.0,>=3.10.0->pyquil<4.0.0,>=3.2.0->cirq-rigetti==1.3.0->cirq) (0.18.6)\n",
            "Requirement already satisfied: notebook>=4.4.1 in /usr/local/lib/python3.10/dist-packages (from widgetsnbextension~=3.6.0->ipywidgets->cirq-ft==1.3.0->cirq) (6.5.5)\n",
            "Requirement already satisfied: soupsieve>1.2 in /usr/local/lib/python3.10/dist-packages (from beautifulsoup4->nbconvert->cirq-ft==1.3.0->cirq) (2.5)\n",
            "Requirement already satisfied: webencodings in /usr/local/lib/python3.10/dist-packages (from bleach->nbconvert->cirq-ft==1.3.0->cirq) (0.5.1)\n",
            "Requirement already satisfied: httpcore<0.17.0,>=0.15.0 in /usr/local/lib/python3.10/dist-packages (from httpx<0.24.0,>=0.23.0->qcs-api-client<0.22.0,>=0.21.0->pyquil<4.0.0,>=3.2.0->cirq-rigetti==1.3.0->cirq) (0.16.3)\n",
            "Requirement already satisfied: rfc3986[idna2008]<2,>=1.3 in /usr/local/lib/python3.10/dist-packages (from httpx<0.24.0,>=0.23.0->qcs-api-client<0.22.0,>=0.21.0->pyquil<4.0.0,>=3.2.0->cirq-rigetti==1.3.0->cirq) (1.5.0)\n",
            "Requirement already satisfied: sniffio in /usr/local/lib/python3.10/dist-packages (from httpx<0.24.0,>=0.23.0->qcs-api-client<0.22.0,>=0.21.0->pyquil<4.0.0,>=3.2.0->cirq-rigetti==1.3.0->cirq) (1.3.1)\n",
            "Requirement already satisfied: parso<0.9.0,>=0.8.3 in /usr/local/lib/python3.10/dist-packages (from jedi>=0.16->ipython>=4.0.0->ipywidgets->cirq-ft==1.3.0->cirq) (0.8.4)\n",
            "Requirement already satisfied: argon2-cffi in /usr/local/lib/python3.10/dist-packages (from notebook>=4.4.1->widgetsnbextension~=3.6.0->ipywidgets->cirq-ft==1.3.0->cirq) (23.1.0)\n",
            "Requirement already satisfied: nest-asyncio>=1.5 in /usr/local/lib/python3.10/dist-packages (from notebook>=4.4.1->widgetsnbextension~=3.6.0->ipywidgets->cirq-ft==1.3.0->cirq) (1.6.0)\n",
            "Requirement already satisfied: Send2Trash>=1.8.0 in /usr/local/lib/python3.10/dist-packages (from notebook>=4.4.1->widgetsnbextension~=3.6.0->ipywidgets->cirq-ft==1.3.0->cirq) (1.8.3)\n",
            "Requirement already satisfied: terminado>=0.8.3 in /usr/local/lib/python3.10/dist-packages (from notebook>=4.4.1->widgetsnbextension~=3.6.0->ipywidgets->cirq-ft==1.3.0->cirq) (0.18.1)\n",
            "Requirement already satisfied: prometheus-client in /usr/local/lib/python3.10/dist-packages (from notebook>=4.4.1->widgetsnbextension~=3.6.0->ipywidgets->cirq-ft==1.3.0->cirq) (0.20.0)\n",
            "Requirement already satisfied: nbclassic>=0.4.7 in /usr/local/lib/python3.10/dist-packages (from notebook>=4.4.1->widgetsnbextension~=3.6.0->ipywidgets->cirq-ft==1.3.0->cirq) (1.0.0)\n",
            "Requirement already satisfied: ptyprocess>=0.5 in /usr/local/lib/python3.10/dist-packages (from pexpect>4.3->ipython>=4.0.0->ipywidgets->cirq-ft==1.3.0->cirq) (0.7.0)\n",
            "Requirement already satisfied: wcwidth in /usr/local/lib/python3.10/dist-packages (from prompt-toolkit!=3.0.0,!=3.0.1,<3.1.0,>=2.0.0->ipython>=4.0.0->ipywidgets->cirq-ft==1.3.0->cirq) (0.2.13)\n",
            "Requirement already satisfied: pyasn1<0.7.0,>=0.4.6 in /usr/local/lib/python3.10/dist-packages (from pyasn1-modules>=0.2.1->google-auth<3.0.dev0,>=2.14.1->google-api-core[grpc]>=1.14.0->cirq-google==1.3.0->cirq) (0.6.0)\n",
            "Requirement already satisfied: ruamel.yaml.clib>=0.2.7 in /usr/local/lib/python3.10/dist-packages (from ruamel.yaml->rpcq<4.0.0,>=3.10.0->pyquil<4.0.0,>=3.2.0->cirq-rigetti==1.3.0->cirq) (0.2.8)\n",
            "Requirement already satisfied: h11<0.15,>=0.13 in /usr/local/lib/python3.10/dist-packages (from httpcore<0.17.0,>=0.15.0->httpx<0.24.0,>=0.23.0->qcs-api-client<0.22.0,>=0.21.0->pyquil<4.0.0,>=3.2.0->cirq-rigetti==1.3.0->cirq) (0.14.0)\n",
            "Requirement already satisfied: anyio<5.0,>=3.0 in /usr/local/lib/python3.10/dist-packages (from httpcore<0.17.0,>=0.15.0->httpx<0.24.0,>=0.23.0->qcs-api-client<0.22.0,>=0.21.0->pyquil<4.0.0,>=3.2.0->cirq-rigetti==1.3.0->cirq) (3.7.1)\n",
            "Requirement already satisfied: jupyter-server>=1.8 in /usr/local/lib/python3.10/dist-packages (from nbclassic>=0.4.7->notebook>=4.4.1->widgetsnbextension~=3.6.0->ipywidgets->cirq-ft==1.3.0->cirq) (1.24.0)\n",
            "Requirement already satisfied: notebook-shim>=0.2.3 in /usr/local/lib/python3.10/dist-packages (from nbclassic>=0.4.7->notebook>=4.4.1->widgetsnbextension~=3.6.0->ipywidgets->cirq-ft==1.3.0->cirq) (0.2.4)\n",
            "Requirement already satisfied: argon2-cffi-bindings in /usr/local/lib/python3.10/dist-packages (from argon2-cffi->notebook>=4.4.1->widgetsnbextension~=3.6.0->ipywidgets->cirq-ft==1.3.0->cirq) (21.2.0)\n",
            "Requirement already satisfied: exceptiongroup in /usr/local/lib/python3.10/dist-packages (from anyio<5.0,>=3.0->httpcore<0.17.0,>=0.15.0->httpx<0.24.0,>=0.23.0->qcs-api-client<0.22.0,>=0.21.0->pyquil<4.0.0,>=3.2.0->cirq-rigetti==1.3.0->cirq) (1.2.0)\n",
            "Requirement already satisfied: websocket-client in /usr/local/lib/python3.10/dist-packages (from jupyter-server>=1.8->nbclassic>=0.4.7->notebook>=4.4.1->widgetsnbextension~=3.6.0->ipywidgets->cirq-ft==1.3.0->cirq) (1.7.0)\n",
            "Requirement already satisfied: cffi>=1.0.1 in /usr/local/lib/python3.10/dist-packages (from argon2-cffi-bindings->argon2-cffi->notebook>=4.4.1->widgetsnbextension~=3.6.0->ipywidgets->cirq-ft==1.3.0->cirq) (1.16.0)\n",
            "Requirement already satisfied: pycparser in /usr/local/lib/python3.10/dist-packages (from cffi>=1.0.1->argon2-cffi-bindings->argon2-cffi->notebook>=4.4.1->widgetsnbextension~=3.6.0->ipywidgets->cirq-ft==1.3.0->cirq) (2.22)\n"
          ]
        }
      ],
      "source": [
        "pip install cirq"
      ]
    },
    {
      "cell_type": "code",
      "execution_count": null,
      "metadata": {
        "id": "IaPjMxugnDIy"
      },
      "outputs": [],
      "source": [
        "import cirq\n",
        "import numpy as np\n",
        "from mitiq.benchmarks import generate_rb_circuits\n",
        "from mitiq import MeasurementResult, Observable, PauliString, raw"
      ]
    },
    {
      "cell_type": "code",
      "execution_count": null,
      "metadata": {
        "id": "uZTFV4BJxDKY"
      },
      "outputs": [],
      "source": []
    },
    {
      "cell_type": "markdown",
      "metadata": {
        "id": "NoNUHyJpxD1b"
      },
      "source": [
        "#RB CIRCUIT"
      ]
    },
    {
      "cell_type": "markdown",
      "source": [
        "####GENERATE RB CIRCUIT\n"
      ],
      "metadata": {
        "id": "X1KigPmYA5Nb"
      }
    },
    {
      "cell_type": "code",
      "execution_count": null,
      "metadata": {
        "colab": {
          "base_uri": "https://localhost:8080/"
        },
        "id": "4DbkYCNlnM6a",
        "outputId": "72d90cf9-1885-49c0-c7fe-1c47b887e9bb"
      },
      "outputs": [
        {
          "output_type": "stream",
          "name": "stdout",
          "text": [
            "0: ───X────────Y^0.5────────────@───X^0──────Y^-0.5───X^0.5───Y^-0.5───────────────────@───Y^0.5────X^0.5────────────\n",
            "                                │                                                      │\n",
            "1: ───Y^-0.5───X^-0.5───Y^0.5───@───X^-0.5───Y^-0.5───X^0.5───Y^-0.5───X^0.5───Y^0.5───@───X^-0.5───Y^-0.5───X^0.5───\n"
          ]
        }
      ],
      "source": [
        "circuit = generate_rb_circuits(2, 1)[0]\n",
        "print(circuit)"
      ]
    },
    {
      "cell_type": "code",
      "source": [
        "def get_circuit(depth: int, seed: int) -> Tuple[cirq.Circuit, List[int]]:\n",
        "    circuit, correct_bitstring = generate_rb_circuit(\n",
        "        n_qubits=2,\n",
        "        num_cliffords=depth,\n",
        "        seed=seed,\n",
        "        return_type=\"cirq\",\n",
        "    )\n",
        "    return circuit, correct_bitstring"
      ],
      "metadata": {
        "id": "5cKMa5vtB9ea"
      },
      "execution_count": null,
      "outputs": []
    },
    {
      "cell_type": "code",
      "source": [],
      "metadata": {
        "id": "XJMPFZKABNoZ"
      },
      "execution_count": null,
      "outputs": []
    },
    {
      "cell_type": "code",
      "execution_count": null,
      "metadata": {
        "id": "NjZPlkzunP-r"
      },
      "outputs": [],
      "source": [
        "def execute(circuit: cirq.Circuit, noise_level: float = 0.002, p0: float = 0.05) -> MeasurementResult:\n",
        "    \"\"\"Execute a circuit with depolarizing noise of strength ``noise_level`` and readout errors ...\n",
        "    \"\"\"\n",
        "    measurements = circuit[-1]\n",
        "    circuit =  circuit[:-1]\n",
        "    circuit = circuit.with_noise(cirq.depolarize(noise_level))\n",
        "    circuit.append(cirq.bit_flip(p0).on_each(circuit.all_qubits()))\n",
        "    circuit.append(measurements)\n",
        "\n",
        "    simulator = cirq.DensityMatrixSimulator()\n",
        "\n",
        "    result = simulator.run(circuit, repetitions=10000)\n",
        "    bitstrings = np.column_stack(list(result.measurements.values()))\n",
        "    return MeasurementResult(bitstrings)"
      ]
    },
    {
      "cell_type": "code",
      "execution_count": null,
      "metadata": {
        "id": "ZCOLMB2Sn0D-"
      },
      "outputs": [],
      "source": [
        "obs = Observable(PauliString(\"ZI\"), PauliString(\"IZ\"))\n",
        "noisy = raw.execute(circuit, execute, obs)"
      ]
    },
    {
      "cell_type": "code",
      "execution_count": null,
      "metadata": {
        "colab": {
          "base_uri": "https://localhost:8080/"
        },
        "id": "OeLbNdjfpFsk",
        "outputId": "5b614d0f-8e10-4bc0-ef39-331d6f9f5253"
      },
      "outputs": [
        {
          "output_type": "stream",
          "name": "stdout",
          "text": [
            "Unmitigated value: 1.71900\n"
          ]
        }
      ],
      "source": [
        "from functools import partial\n",
        "\n",
        "ideal = raw.execute(circuit, partial(execute, noise_level=0, p0=0), obs)\n",
        "print(\"Unmitigated value:\", \"{:.5f}\".format(noisy.real))"
      ]
    },
    {
      "cell_type": "code",
      "execution_count": null,
      "metadata": {
        "id": "1aatqfcjpHP8"
      },
      "outputs": [],
      "source": [
        "from mitiq import zne, benchmarks,pec,rem,ddd"
      ]
    },
    {
      "cell_type": "markdown",
      "metadata": {
        "id": "P3o4Sf-RxPMd"
      },
      "source": [
        "##ZNE METHOD"
      ]
    },
    {
      "cell_type": "code",
      "execution_count": null,
      "metadata": {
        "colab": {
          "base_uri": "https://localhost:8080/"
        },
        "id": "2-A16m3oqBEv",
        "outputId": "10ab321e-0073-4c53-877a-d7ac056dc6ac"
      },
      "outputs": [
        {
          "output_type": "stream",
          "name": "stdout",
          "text": [
            "Mitigated value obtained with ZNE: 1.78720\n"
          ]
        }
      ],
      "source": [
        "zne_executor= zne.mitigate_executor(execute,observable=obs)\n",
        "zne_result= zne_executor(circuit)\n",
        "print(\"Mitigated value obtained with ZNE:\", \"{:.5f}\".format(zne_result.real))"
      ]
    },
    {
      "cell_type": "markdown",
      "metadata": {
        "id": "SM7kziEbxWwD"
      },
      "source": [
        "##PEC METHOD"
      ]
    },
    {
      "cell_type": "code",
      "execution_count": null,
      "metadata": {
        "colab": {
          "base_uri": "https://localhost:8080/"
        },
        "id": "jFO-MSoNq15g",
        "outputId": "44d8bdef-db3e-40dc-f04f-54a70aa43b2d"
      },
      "outputs": [
        {
          "output_type": "stream",
          "name": "stdout",
          "text": [
            "10 OperationRepresentation objects produced, assuming 0.5% depolarizing noise.\n"
          ]
        }
      ],
      "source": [
        "from mitiq.pec.representations.depolarizing import represent_operations_in_circuit_with_local_depolarizing_noise\n",
        "\n",
        "noise_level = 0.005\n",
        "reps = represent_operations_in_circuit_with_local_depolarizing_noise(circuit, noise_level)  ## reps necessary for PEC METHOD\n",
        "print(f\"{len(reps)} OperationRepresentation objects produced, assuming {100 * noise_level}% depolarizing noise.\")"
      ]
    },
    {
      "cell_type": "code",
      "execution_count": null,
      "metadata": {
        "colab": {
          "base_uri": "https://localhost:8080/"
        },
        "id": "adHJxxY6qSZu",
        "outputId": "8fa58eea-e0ea-463e-827c-8dc15bdef6b1"
      },
      "outputs": [
        {
          "name": "stdout",
          "output_type": "stream",
          "text": [
            "Mitigated value obtained with PEC: 1.83042\n"
          ]
        }
      ],
      "source": [
        "pec_executor= pec.mitigate_executor(execute,observable=obs,representations=reps)\n",
        "pec_result= pec_executor(circuit)\n",
        "print(\"Mitigated value obtained with PEC:\", \"{:.5f}\".format(pec_result.real))\n"
      ]
    },
    {
      "cell_type": "markdown",
      "source": [
        "##DDD METHOD"
      ],
      "metadata": {
        "id": "S8_2zmNHuW5g"
      }
    },
    {
      "cell_type": "code",
      "source": [
        "rule = ddd.rules.yy"
      ],
      "metadata": {
        "id": "W2DDqCRRwrk3"
      },
      "execution_count": null,
      "outputs": []
    },
    {
      "cell_type": "code",
      "execution_count": null,
      "metadata": {
        "id": "mKsR2LzpxbsI",
        "colab": {
          "base_uri": "https://localhost:8080/"
        },
        "outputId": "d65077f0-b2ed-42da-838a-2670f9e16a3e"
      },
      "outputs": [
        {
          "output_type": "stream",
          "name": "stdout",
          "text": [
            "Mitigated value obtained with DDD: 1.73300\n"
          ]
        }
      ],
      "source": [
        "ddd_executor= ddd.mitigate_executor(execute,observable=obs,rule=rule)\n",
        "ddd_result= ddd_executor(circuit)\n",
        "print(\"Mitigated value obtained with DDD:\", \"{:.5f}\".format(ddd_result.real))\n"
      ]
    },
    {
      "cell_type": "markdown",
      "metadata": {
        "id": "r3GhuySGxdbA"
      },
      "source": [
        "##REM METHOD"
      ]
    },
    {
      "cell_type": "code",
      "execution_count": null,
      "metadata": {
        "colab": {
          "base_uri": "https://localhost:8080/"
        },
        "id": "9jaZqBlkw3rK",
        "outputId": "00c3b051-9c2a-424e-c114-e7ff9f4a2a29"
      },
      "outputs": [
        {
          "name": "stdout",
          "output_type": "stream",
          "text": [
            "Mitigated value obtained with REM: 1.89080\n"
          ]
        }
      ],
      "source": [
        "p0 = p1 = 0.05\n",
        "icm = rem.generate_inverse_confusion_matrix(2, p0, p1)\n",
        "rem_executor = rem.mitigate_executor(execute, inverse_confusion_matrix=icm)\n",
        "\n",
        "rem_result = obs.expectation(circuit, rem_executor)\n",
        "print(\"Mitigated value obtained with REM:\", \"{:.5f}\".format(rem_result.real))"
      ]
    },
    {
      "cell_type": "markdown",
      "metadata": {
        "id": "dzbko-B6x4Pu"
      },
      "source": [
        "## COMBINEND METHOD"
      ]
    },
    {
      "cell_type": "markdown",
      "metadata": {
        "id": "3RX00_r0yAEI"
      },
      "source": [
        "###ZNE+REM"
      ]
    },
    {
      "cell_type": "code",
      "execution_count": null,
      "metadata": {
        "colab": {
          "base_uri": "https://localhost:8080/"
        },
        "id": "AKjWuWvKyElq",
        "outputId": "eeefe00a-92da-483a-a38f-5dfae5d90521"
      },
      "outputs": [
        {
          "name": "stdout",
          "output_type": "stream",
          "text": [
            "Mitigated value obtained with REM + ZNE: 2.03720\n"
          ]
        }
      ],
      "source": [
        "combined_executor1 = zne.mitigate_executor(rem_executor, observable=obs, scale_noise=zne.scaling.folding.fold_global)\n",
        "\n",
        "combined_result = combined_executor1(circuit)\n",
        "print(\"Mitigated value obtained with REM + ZNE:\", \"{:.5f}\".format(combined_result.real))"
      ]
    },
    {
      "cell_type": "markdown",
      "metadata": {
        "id": "fu7yrsFWyFQ8"
      },
      "source": [
        "###PEC+REM"
      ]
    },
    {
      "cell_type": "code",
      "execution_count": null,
      "metadata": {
        "colab": {
          "base_uri": "https://localhost:8080/"
        },
        "id": "eX0nXudbygTA",
        "outputId": "ba9fb878-64f4-46cc-f69f-3d4342ef36df"
      },
      "outputs": [
        {
          "name": "stderr",
          "output_type": "stream",
          "text": [
            "/usr/local/lib/python3.10/dist-packages/mitiq/pec/sampling.py:75: UserWarning: No representation found for \n",
            "\n",
            "0: ───Y^0.5───.\n",
            "  warnings.warn(\n",
            "/usr/local/lib/python3.10/dist-packages/mitiq/pec/sampling.py:75: UserWarning: No representation found for \n",
            "\n",
            "1: ───X───.\n",
            "  warnings.warn(\n",
            "/usr/local/lib/python3.10/dist-packages/mitiq/pec/sampling.py:75: UserWarning: No representation found for \n",
            "\n",
            "0: ───X^-0.5───.\n",
            "  warnings.warn(\n",
            "/usr/local/lib/python3.10/dist-packages/mitiq/pec/sampling.py:75: UserWarning: No representation found for \n",
            "\n",
            "1: ───Y^0.5───.\n",
            "  warnings.warn(\n",
            "/usr/local/lib/python3.10/dist-packages/mitiq/pec/sampling.py:75: UserWarning: No representation found for \n",
            "\n",
            "0: ───@───\n",
            "      │\n",
            "1: ───@───.\n",
            "  warnings.warn(\n",
            "/usr/local/lib/python3.10/dist-packages/mitiq/pec/sampling.py:75: UserWarning: No representation found for \n",
            "\n",
            "0: ───Y^-0.5───.\n",
            "  warnings.warn(\n",
            "/usr/local/lib/python3.10/dist-packages/mitiq/pec/sampling.py:75: UserWarning: No representation found for \n",
            "\n",
            "1: ───Y^0.5───.\n",
            "  warnings.warn(\n",
            "/usr/local/lib/python3.10/dist-packages/mitiq/pec/sampling.py:75: UserWarning: No representation found for \n",
            "\n",
            "0: ───@───\n",
            "      │\n",
            "1: ───@───.\n",
            "  warnings.warn(\n",
            "/usr/local/lib/python3.10/dist-packages/mitiq/pec/sampling.py:75: UserWarning: No representation found for \n",
            "\n",
            "0: ───Y^0.5───.\n",
            "  warnings.warn(\n",
            "/usr/local/lib/python3.10/dist-packages/mitiq/pec/sampling.py:75: UserWarning: No representation found for \n",
            "\n",
            "1: ───Y^-0.5───.\n",
            "  warnings.warn(\n",
            "/usr/local/lib/python3.10/dist-packages/mitiq/pec/sampling.py:75: UserWarning: No representation found for \n",
            "\n",
            "0: ───@───\n",
            "      │\n",
            "1: ───@───.\n",
            "  warnings.warn(\n",
            "/usr/local/lib/python3.10/dist-packages/mitiq/pec/sampling.py:75: UserWarning: No representation found for \n",
            "\n",
            "1: ───Y^0.5───.\n",
            "  warnings.warn(\n",
            "/usr/local/lib/python3.10/dist-packages/mitiq/pec/sampling.py:75: UserWarning: No representation found for \n",
            "\n",
            "0: ───Y───.\n",
            "  warnings.warn(\n",
            "/usr/local/lib/python3.10/dist-packages/mitiq/pec/sampling.py:75: UserWarning: No representation found for \n",
            "\n",
            "1: ───Y───.\n",
            "  warnings.warn(\n",
            "/usr/local/lib/python3.10/dist-packages/mitiq/pec/sampling.py:75: UserWarning: No representation found for \n",
            "\n",
            "0: ───@───\n",
            "      │\n",
            "1: ───@───.\n",
            "  warnings.warn(\n",
            "/usr/local/lib/python3.10/dist-packages/mitiq/pec/sampling.py:75: UserWarning: No representation found for \n",
            "\n",
            "0: ───Y^-0.5───.\n",
            "  warnings.warn(\n",
            "/usr/local/lib/python3.10/dist-packages/mitiq/pec/sampling.py:75: UserWarning: No representation found for \n",
            "\n",
            "1: ───Y^0.5───.\n",
            "  warnings.warn(\n",
            "/usr/local/lib/python3.10/dist-packages/mitiq/pec/sampling.py:75: UserWarning: No representation found for \n",
            "\n",
            "0: ───@───\n",
            "      │\n",
            "1: ───@───.\n",
            "  warnings.warn(\n",
            "/usr/local/lib/python3.10/dist-packages/mitiq/pec/sampling.py:75: UserWarning: No representation found for \n",
            "\n",
            "0: ───Y^0.5───.\n",
            "  warnings.warn(\n",
            "/usr/local/lib/python3.10/dist-packages/mitiq/pec/sampling.py:75: UserWarning: No representation found for \n",
            "\n",
            "1: ───Y^-0.5───.\n",
            "  warnings.warn(\n",
            "/usr/local/lib/python3.10/dist-packages/mitiq/pec/sampling.py:75: UserWarning: No representation found for \n",
            "\n",
            "0: ───@───\n",
            "      │\n",
            "1: ───@───.\n",
            "  warnings.warn(\n",
            "/usr/local/lib/python3.10/dist-packages/mitiq/pec/sampling.py:75: UserWarning: No representation found for \n",
            "\n",
            "1: ───Y^0.5───.\n",
            "  warnings.warn(\n",
            "/usr/local/lib/python3.10/dist-packages/mitiq/pec/sampling.py:75: UserWarning: No representation found for \n",
            "\n",
            "0: ───Y^0.5───.\n",
            "  warnings.warn(\n",
            "/usr/local/lib/python3.10/dist-packages/mitiq/pec/sampling.py:75: UserWarning: No representation found for \n",
            "\n",
            "1: ───X───.\n",
            "  warnings.warn(\n",
            "/usr/local/lib/python3.10/dist-packages/mitiq/pec/sampling.py:75: UserWarning: No representation found for \n",
            "\n",
            "0: ───X^-0.5───.\n",
            "  warnings.warn(\n",
            "/usr/local/lib/python3.10/dist-packages/mitiq/pec/sampling.py:75: UserWarning: No representation found for \n",
            "\n",
            "1: ───Y^0.5───.\n",
            "  warnings.warn(\n",
            "/usr/local/lib/python3.10/dist-packages/mitiq/pec/sampling.py:75: UserWarning: No representation found for \n",
            "\n",
            "0: ───@───\n",
            "      │\n",
            "1: ───@───.\n",
            "  warnings.warn(\n",
            "/usr/local/lib/python3.10/dist-packages/mitiq/pec/sampling.py:75: UserWarning: No representation found for \n",
            "\n",
            "0: ───Y^-0.5───.\n",
            "  warnings.warn(\n",
            "/usr/local/lib/python3.10/dist-packages/mitiq/pec/sampling.py:75: UserWarning: No representation found for \n",
            "\n",
            "1: ───Y^0.5───.\n",
            "  warnings.warn(\n",
            "/usr/local/lib/python3.10/dist-packages/mitiq/pec/sampling.py:75: UserWarning: No representation found for \n",
            "\n",
            "0: ───@───\n",
            "      │\n",
            "1: ───@───.\n",
            "  warnings.warn(\n",
            "/usr/local/lib/python3.10/dist-packages/mitiq/pec/sampling.py:75: UserWarning: No representation found for \n",
            "\n",
            "0: ───Y^0.5───.\n",
            "  warnings.warn(\n",
            "/usr/local/lib/python3.10/dist-packages/mitiq/pec/sampling.py:75: UserWarning: No representation found for \n",
            "\n",
            "1: ───Y^-0.5───.\n",
            "  warnings.warn(\n",
            "/usr/local/lib/python3.10/dist-packages/mitiq/pec/sampling.py:75: UserWarning: No representation found for \n",
            "\n",
            "0: ───@───\n",
            "      │\n",
            "1: ───@───.\n",
            "  warnings.warn(\n",
            "/usr/local/lib/python3.10/dist-packages/mitiq/pec/sampling.py:75: UserWarning: No representation found for \n",
            "\n",
            "1: ───Y^0.5───.\n",
            "  warnings.warn(\n",
            "/usr/local/lib/python3.10/dist-packages/mitiq/pec/sampling.py:75: UserWarning: No representation found for \n",
            "\n",
            "0: ───Y───.\n",
            "  warnings.warn(\n",
            "/usr/local/lib/python3.10/dist-packages/mitiq/pec/sampling.py:75: UserWarning: No representation found for \n",
            "\n",
            "1: ───Y───.\n",
            "  warnings.warn(\n",
            "/usr/local/lib/python3.10/dist-packages/mitiq/pec/sampling.py:75: UserWarning: No representation found for \n",
            "\n",
            "0: ───@───\n",
            "      │\n",
            "1: ───@───.\n",
            "  warnings.warn(\n",
            "/usr/local/lib/python3.10/dist-packages/mitiq/pec/sampling.py:75: UserWarning: No representation found for \n",
            "\n",
            "0: ───Y^-0.5───.\n",
            "  warnings.warn(\n",
            "/usr/local/lib/python3.10/dist-packages/mitiq/pec/sampling.py:75: UserWarning: No representation found for \n",
            "\n",
            "1: ───Y^0.5───.\n",
            "  warnings.warn(\n",
            "/usr/local/lib/python3.10/dist-packages/mitiq/pec/sampling.py:75: UserWarning: No representation found for \n",
            "\n",
            "0: ───@───\n",
            "      │\n",
            "1: ───@───.\n",
            "  warnings.warn(\n",
            "/usr/local/lib/python3.10/dist-packages/mitiq/pec/sampling.py:75: UserWarning: No representation found for \n",
            "\n",
            "0: ───Y^0.5───.\n",
            "  warnings.warn(\n",
            "/usr/local/lib/python3.10/dist-packages/mitiq/pec/sampling.py:75: UserWarning: No representation found for \n",
            "\n",
            "1: ───Y^-0.5───.\n",
            "  warnings.warn(\n",
            "/usr/local/lib/python3.10/dist-packages/mitiq/pec/sampling.py:75: UserWarning: No representation found for \n",
            "\n",
            "0: ───@───\n",
            "      │\n",
            "1: ───@───.\n",
            "  warnings.warn(\n",
            "/usr/local/lib/python3.10/dist-packages/mitiq/pec/sampling.py:75: UserWarning: No representation found for \n",
            "\n",
            "1: ───Y^0.5───.\n",
            "  warnings.warn(\n"
          ]
        },
        {
          "name": "stdout",
          "output_type": "stream",
          "text": [
            "Mitigated value obtained with PEC+REM: 1.91416\n"
          ]
        }
      ],
      "source": [
        "combined_executor = pec.mitigate_executor(rem_executor, observable=obs,representations=reps)\n",
        "\n",
        "combined_result = combined_executor(circuit)\n",
        "print(\"Mitigated value obtained with PEC+REM:\", \"{:.5f}\".format(combined_result.real))"
      ]
    },
    {
      "cell_type": "markdown",
      "metadata": {
        "id": "h7l3WhBgz1mv"
      },
      "source": [
        "###ZNE+REM+PEC"
      ]
    },
    {
      "cell_type": "code",
      "execution_count": null,
      "metadata": {
        "colab": {
          "background_save": true,
          "base_uri": "https://localhost:8080/"
        },
        "id": "F5XxlDVxy4fg",
        "outputId": "8c5e9383-2617-4e7b-f492-077b77548e21"
      },
      "outputs": [
        {
          "name": "stderr",
          "output_type": "stream",
          "text": [
            "/usr/local/lib/python3.10/dist-packages/mitiq/pec/sampling.py:75: UserWarning: No representation found for \n",
            "\n",
            "0: ───Y^0.5───.\n",
            "  warnings.warn(\n",
            "/usr/local/lib/python3.10/dist-packages/mitiq/pec/sampling.py:75: UserWarning: No representation found for \n",
            "\n",
            "1: ───X───.\n",
            "  warnings.warn(\n",
            "/usr/local/lib/python3.10/dist-packages/mitiq/pec/sampling.py:75: UserWarning: No representation found for \n",
            "\n",
            "0: ───X^-0.5───.\n",
            "  warnings.warn(\n",
            "/usr/local/lib/python3.10/dist-packages/mitiq/pec/sampling.py:75: UserWarning: No representation found for \n",
            "\n",
            "1: ───Y^0.5───.\n",
            "  warnings.warn(\n",
            "/usr/local/lib/python3.10/dist-packages/mitiq/pec/sampling.py:75: UserWarning: No representation found for \n",
            "\n",
            "0: ───@───\n",
            "      │\n",
            "1: ───@───.\n",
            "  warnings.warn(\n",
            "/usr/local/lib/python3.10/dist-packages/mitiq/pec/sampling.py:75: UserWarning: No representation found for \n",
            "\n",
            "0: ───Y^-0.5───.\n",
            "  warnings.warn(\n",
            "/usr/local/lib/python3.10/dist-packages/mitiq/pec/sampling.py:75: UserWarning: No representation found for \n",
            "\n",
            "1: ───Y^0.5───.\n",
            "  warnings.warn(\n",
            "/usr/local/lib/python3.10/dist-packages/mitiq/pec/sampling.py:75: UserWarning: No representation found for \n",
            "\n",
            "0: ───@───\n",
            "      │\n",
            "1: ───@───.\n",
            "  warnings.warn(\n",
            "/usr/local/lib/python3.10/dist-packages/mitiq/pec/sampling.py:75: UserWarning: No representation found for \n",
            "\n",
            "0: ───Y^0.5───.\n",
            "  warnings.warn(\n",
            "/usr/local/lib/python3.10/dist-packages/mitiq/pec/sampling.py:75: UserWarning: No representation found for \n",
            "\n",
            "1: ───Y^-0.5───.\n",
            "  warnings.warn(\n",
            "/usr/local/lib/python3.10/dist-packages/mitiq/pec/sampling.py:75: UserWarning: No representation found for \n",
            "\n",
            "0: ───@───\n",
            "      │\n",
            "1: ───@───.\n",
            "  warnings.warn(\n",
            "/usr/local/lib/python3.10/dist-packages/mitiq/pec/sampling.py:75: UserWarning: No representation found for \n",
            "\n",
            "1: ───Y^0.5───.\n",
            "  warnings.warn(\n",
            "/usr/local/lib/python3.10/dist-packages/mitiq/pec/sampling.py:75: UserWarning: No representation found for \n",
            "\n",
            "0: ───Y───.\n",
            "  warnings.warn(\n",
            "/usr/local/lib/python3.10/dist-packages/mitiq/pec/sampling.py:75: UserWarning: No representation found for \n",
            "\n",
            "1: ───Y───.\n",
            "  warnings.warn(\n",
            "/usr/local/lib/python3.10/dist-packages/mitiq/pec/sampling.py:75: UserWarning: No representation found for \n",
            "\n",
            "0: ───@───\n",
            "      │\n",
            "1: ───@───.\n",
            "  warnings.warn(\n",
            "/usr/local/lib/python3.10/dist-packages/mitiq/pec/sampling.py:75: UserWarning: No representation found for \n",
            "\n",
            "0: ───Y^-0.5───.\n",
            "  warnings.warn(\n",
            "/usr/local/lib/python3.10/dist-packages/mitiq/pec/sampling.py:75: UserWarning: No representation found for \n",
            "\n",
            "1: ───Y^0.5───.\n",
            "  warnings.warn(\n",
            "/usr/local/lib/python3.10/dist-packages/mitiq/pec/sampling.py:75: UserWarning: No representation found for \n",
            "\n",
            "0: ───@───\n",
            "      │\n",
            "1: ───@───.\n",
            "  warnings.warn(\n",
            "/usr/local/lib/python3.10/dist-packages/mitiq/pec/sampling.py:75: UserWarning: No representation found for \n",
            "\n",
            "0: ───Y^0.5───.\n",
            "  warnings.warn(\n",
            "/usr/local/lib/python3.10/dist-packages/mitiq/pec/sampling.py:75: UserWarning: No representation found for \n",
            "\n",
            "1: ───Y^-0.5───.\n",
            "  warnings.warn(\n",
            "/usr/local/lib/python3.10/dist-packages/mitiq/pec/sampling.py:75: UserWarning: No representation found for \n",
            "\n",
            "0: ───@───\n",
            "      │\n",
            "1: ───@───.\n",
            "  warnings.warn(\n",
            "/usr/local/lib/python3.10/dist-packages/mitiq/pec/sampling.py:75: UserWarning: No representation found for \n",
            "\n",
            "1: ───Y^0.5───.\n",
            "  warnings.warn(\n",
            "/usr/local/lib/python3.10/dist-packages/mitiq/pec/sampling.py:75: UserWarning: No representation found for \n",
            "\n",
            "0: ───Y^0.5───.\n",
            "  warnings.warn(\n",
            "/usr/local/lib/python3.10/dist-packages/mitiq/pec/sampling.py:75: UserWarning: No representation found for \n",
            "\n",
            "1: ───X───.\n",
            "  warnings.warn(\n",
            "/usr/local/lib/python3.10/dist-packages/mitiq/pec/sampling.py:75: UserWarning: No representation found for \n",
            "\n",
            "0: ───X^-0.5───.\n",
            "  warnings.warn(\n",
            "/usr/local/lib/python3.10/dist-packages/mitiq/pec/sampling.py:75: UserWarning: No representation found for \n",
            "\n",
            "1: ───Y^0.5───.\n",
            "  warnings.warn(\n",
            "/usr/local/lib/python3.10/dist-packages/mitiq/pec/sampling.py:75: UserWarning: No representation found for \n",
            "\n",
            "0: ───@───\n",
            "      │\n",
            "1: ───@───.\n",
            "  warnings.warn(\n",
            "/usr/local/lib/python3.10/dist-packages/mitiq/pec/sampling.py:75: UserWarning: No representation found for \n",
            "\n",
            "0: ───Y^-0.5───.\n",
            "  warnings.warn(\n",
            "/usr/local/lib/python3.10/dist-packages/mitiq/pec/sampling.py:75: UserWarning: No representation found for \n",
            "\n",
            "1: ───Y^0.5───.\n",
            "  warnings.warn(\n",
            "/usr/local/lib/python3.10/dist-packages/mitiq/pec/sampling.py:75: UserWarning: No representation found for \n",
            "\n",
            "0: ───@───\n",
            "      │\n",
            "1: ───@───.\n",
            "  warnings.warn(\n",
            "/usr/local/lib/python3.10/dist-packages/mitiq/pec/sampling.py:75: UserWarning: No representation found for \n",
            "\n",
            "0: ───Y^0.5───.\n",
            "  warnings.warn(\n",
            "/usr/local/lib/python3.10/dist-packages/mitiq/pec/sampling.py:75: UserWarning: No representation found for \n",
            "\n",
            "1: ───Y^-0.5───.\n",
            "  warnings.warn(\n",
            "/usr/local/lib/python3.10/dist-packages/mitiq/pec/sampling.py:75: UserWarning: No representation found for \n",
            "\n",
            "0: ───@───\n",
            "      │\n",
            "1: ───@───.\n",
            "  warnings.warn(\n",
            "/usr/local/lib/python3.10/dist-packages/mitiq/pec/sampling.py:75: UserWarning: No representation found for \n",
            "\n",
            "1: ───Y^0.5───.\n",
            "  warnings.warn(\n",
            "/usr/local/lib/python3.10/dist-packages/mitiq/pec/sampling.py:75: UserWarning: No representation found for \n",
            "\n",
            "0: ───Y───.\n",
            "  warnings.warn(\n",
            "/usr/local/lib/python3.10/dist-packages/mitiq/pec/sampling.py:75: UserWarning: No representation found for \n",
            "\n",
            "1: ───Y───.\n",
            "  warnings.warn(\n",
            "/usr/local/lib/python3.10/dist-packages/mitiq/pec/sampling.py:75: UserWarning: No representation found for \n",
            "\n",
            "0: ───@───\n",
            "      │\n",
            "1: ───@───.\n",
            "  warnings.warn(\n",
            "/usr/local/lib/python3.10/dist-packages/mitiq/pec/sampling.py:75: UserWarning: No representation found for \n",
            "\n",
            "0: ───Y^-0.5───.\n",
            "  warnings.warn(\n",
            "/usr/local/lib/python3.10/dist-packages/mitiq/pec/sampling.py:75: UserWarning: No representation found for \n",
            "\n",
            "1: ───Y^0.5───.\n",
            "  warnings.warn(\n",
            "/usr/local/lib/python3.10/dist-packages/mitiq/pec/sampling.py:75: UserWarning: No representation found for \n",
            "\n",
            "0: ───@───\n",
            "      │\n",
            "1: ───@───.\n",
            "  warnings.warn(\n",
            "/usr/local/lib/python3.10/dist-packages/mitiq/pec/sampling.py:75: UserWarning: No representation found for \n",
            "\n",
            "0: ───Y^0.5───.\n",
            "  warnings.warn(\n",
            "/usr/local/lib/python3.10/dist-packages/mitiq/pec/sampling.py:75: UserWarning: No representation found for \n",
            "\n",
            "1: ───Y^-0.5───.\n",
            "  warnings.warn(\n",
            "/usr/local/lib/python3.10/dist-packages/mitiq/pec/sampling.py:75: UserWarning: No representation found for \n",
            "\n",
            "0: ───@───\n",
            "      │\n",
            "1: ───@───.\n",
            "  warnings.warn(\n",
            "/usr/local/lib/python3.10/dist-packages/mitiq/pec/sampling.py:75: UserWarning: No representation found for \n",
            "\n",
            "1: ───Y^0.5───.\n",
            "  warnings.warn(\n"
          ]
        },
        {
          "ename": "AttributeError",
          "evalue": "'NoneType' object has no attribute '_expectation_from_measurements'",
          "output_type": "error",
          "traceback": [
            "\u001b[0;31m---------------------------------------------------------------------------\u001b[0m",
            "\u001b[0;31mAttributeError\u001b[0m                            Traceback (most recent call last)",
            "\u001b[0;32m<ipython-input-32-d567737b0f45>\u001b[0m in \u001b[0;36m<cell line: 3>\u001b[0;34m()\u001b[0m\n\u001b[1;32m      1\u001b[0m \u001b[0mcombined_executor_total\u001b[0m \u001b[0;34m=\u001b[0m \u001b[0mpec\u001b[0m\u001b[0;34m.\u001b[0m\u001b[0mmitigate_executor\u001b[0m\u001b[0;34m(\u001b[0m\u001b[0mcombined_executor1\u001b[0m\u001b[0;34m,\u001b[0m\u001b[0mrepresentations\u001b[0m\u001b[0;34m=\u001b[0m\u001b[0mreps\u001b[0m\u001b[0;34m)\u001b[0m\u001b[0;34m\u001b[0m\u001b[0;34m\u001b[0m\u001b[0m\n\u001b[1;32m      2\u001b[0m \u001b[0;34m\u001b[0m\u001b[0m\n\u001b[0;32m----> 3\u001b[0;31m \u001b[0mcombined_result2\u001b[0m \u001b[0;34m=\u001b[0m \u001b[0mcombined_executor_total\u001b[0m\u001b[0;34m(\u001b[0m\u001b[0mcircuit\u001b[0m\u001b[0;34m)\u001b[0m\u001b[0;34m\u001b[0m\u001b[0;34m\u001b[0m\u001b[0m\n\u001b[0m\u001b[1;32m      4\u001b[0m \u001b[0mprint\u001b[0m\u001b[0;34m(\u001b[0m\u001b[0;34m\"Mitigated value obtained with REM + PEC + ZNE:\"\u001b[0m\u001b[0;34m,\u001b[0m \u001b[0;34m\"{:.5f}\"\u001b[0m\u001b[0;34m.\u001b[0m\u001b[0mformat\u001b[0m\u001b[0;34m(\u001b[0m\u001b[0mcombined_result2\u001b[0m\u001b[0;34m.\u001b[0m\u001b[0mreal\u001b[0m\u001b[0;34m)\u001b[0m\u001b[0;34m)\u001b[0m\u001b[0;34m\u001b[0m\u001b[0;34m\u001b[0m\u001b[0m\n",
            "\u001b[0;32m/usr/local/lib/python3.10/dist-packages/mitiq/pec/pec.py\u001b[0m in \u001b[0;36mnew_executor\u001b[0;34m(circuit)\u001b[0m\n\u001b[1;32m    206\u001b[0m             \u001b[0mcircuit\u001b[0m\u001b[0;34m:\u001b[0m \u001b[0mQPROGRAM\u001b[0m\u001b[0;34m,\u001b[0m\u001b[0;34m\u001b[0m\u001b[0;34m\u001b[0m\u001b[0m\n\u001b[1;32m    207\u001b[0m         ) -> Union[float, Tuple[float, Dict[str, Any]]]:\n\u001b[0;32m--> 208\u001b[0;31m             return execute_with_pec(\n\u001b[0m\u001b[1;32m    209\u001b[0m                 \u001b[0mcircuit\u001b[0m\u001b[0;34m,\u001b[0m\u001b[0;34m\u001b[0m\u001b[0;34m\u001b[0m\u001b[0m\n\u001b[1;32m    210\u001b[0m                 \u001b[0mexecutor\u001b[0m\u001b[0;34m,\u001b[0m\u001b[0;34m\u001b[0m\u001b[0;34m\u001b[0m\u001b[0m\n",
            "\u001b[0;32m/usr/local/lib/python3.10/dist-packages/mitiq/pec/pec.py\u001b[0m in \u001b[0;36mexecute_with_pec\u001b[0;34m(circuit, executor, observable, representations, precision, num_samples, force_run_all, random_state, full_output)\u001b[0m\n\u001b[1;32m    135\u001b[0m         \u001b[0mexecutor\u001b[0m \u001b[0;34m=\u001b[0m \u001b[0mExecutor\u001b[0m\u001b[0;34m(\u001b[0m\u001b[0mexecutor\u001b[0m\u001b[0;34m)\u001b[0m\u001b[0;34m\u001b[0m\u001b[0;34m\u001b[0m\u001b[0m\n\u001b[1;32m    136\u001b[0m \u001b[0;34m\u001b[0m\u001b[0m\n\u001b[0;32m--> 137\u001b[0;31m     \u001b[0mresults\u001b[0m \u001b[0;34m=\u001b[0m \u001b[0mexecutor\u001b[0m\u001b[0;34m.\u001b[0m\u001b[0mevaluate\u001b[0m\u001b[0;34m(\u001b[0m\u001b[0msampled_circuits\u001b[0m\u001b[0;34m,\u001b[0m \u001b[0mobservable\u001b[0m\u001b[0;34m,\u001b[0m \u001b[0mforce_run_all\u001b[0m\u001b[0;34m)\u001b[0m\u001b[0;34m\u001b[0m\u001b[0;34m\u001b[0m\u001b[0m\n\u001b[0m\u001b[1;32m    138\u001b[0m \u001b[0;34m\u001b[0m\u001b[0m\n\u001b[1;32m    139\u001b[0m     \u001b[0;31m# Evaluate unbiased estimators [Temme2017] [Endo2018] [Takagi2020]\u001b[0m\u001b[0;34m\u001b[0m\u001b[0;34m\u001b[0m\u001b[0m\n",
            "\u001b[0;32m/usr/local/lib/python3.10/dist-packages/mitiq/executor/executor.py\u001b[0m in \u001b[0;36mevaluate\u001b[0;34m(self, circuits, observable, force_run_all, **kwargs)\u001b[0m\n\u001b[1;32m    195\u001b[0m             \u001b[0mobservable\u001b[0m \u001b[0;34m=\u001b[0m \u001b[0mcast\u001b[0m\u001b[0;34m(\u001b[0m\u001b[0mObservable\u001b[0m\u001b[0;34m,\u001b[0m \u001b[0mobservable\u001b[0m\u001b[0;34m)\u001b[0m\u001b[0;34m\u001b[0m\u001b[0;34m\u001b[0m\u001b[0m\n\u001b[1;32m    196\u001b[0m             \u001b[0mall_results\u001b[0m \u001b[0;34m=\u001b[0m \u001b[0mcast\u001b[0m\u001b[0;34m(\u001b[0m\u001b[0mList\u001b[0m\u001b[0;34m[\u001b[0m\u001b[0mMeasurementResult\u001b[0m\u001b[0;34m]\u001b[0m\u001b[0;34m,\u001b[0m \u001b[0mall_results\u001b[0m\u001b[0;34m)\u001b[0m\u001b[0;34m\u001b[0m\u001b[0;34m\u001b[0m\u001b[0m\n\u001b[0;32m--> 197\u001b[0;31m             results = [\n\u001b[0m\u001b[1;32m    198\u001b[0m                 observable._expectation_from_measurements(\n\u001b[1;32m    199\u001b[0m                     \u001b[0mall_results\u001b[0m\u001b[0;34m[\u001b[0m\u001b[0mi\u001b[0m \u001b[0;34m:\u001b[0m \u001b[0mi\u001b[0m \u001b[0;34m+\u001b[0m \u001b[0mresult_step\u001b[0m\u001b[0;34m]\u001b[0m\u001b[0;34m\u001b[0m\u001b[0;34m\u001b[0m\u001b[0m\n",
            "\u001b[0;32m/usr/local/lib/python3.10/dist-packages/mitiq/executor/executor.py\u001b[0m in \u001b[0;36m<listcomp>\u001b[0;34m(.0)\u001b[0m\n\u001b[1;32m    196\u001b[0m             \u001b[0mall_results\u001b[0m \u001b[0;34m=\u001b[0m \u001b[0mcast\u001b[0m\u001b[0;34m(\u001b[0m\u001b[0mList\u001b[0m\u001b[0;34m[\u001b[0m\u001b[0mMeasurementResult\u001b[0m\u001b[0;34m]\u001b[0m\u001b[0;34m,\u001b[0m \u001b[0mall_results\u001b[0m\u001b[0;34m)\u001b[0m\u001b[0;34m\u001b[0m\u001b[0;34m\u001b[0m\u001b[0m\n\u001b[1;32m    197\u001b[0m             results = [\n\u001b[0;32m--> 198\u001b[0;31m                 observable._expectation_from_measurements(\n\u001b[0m\u001b[1;32m    199\u001b[0m                     \u001b[0mall_results\u001b[0m\u001b[0;34m[\u001b[0m\u001b[0mi\u001b[0m \u001b[0;34m:\u001b[0m \u001b[0mi\u001b[0m \u001b[0;34m+\u001b[0m \u001b[0mresult_step\u001b[0m\u001b[0;34m]\u001b[0m\u001b[0;34m\u001b[0m\u001b[0;34m\u001b[0m\u001b[0m\n\u001b[1;32m    200\u001b[0m                 )\n",
            "\u001b[0;31mAttributeError\u001b[0m: 'NoneType' object has no attribute '_expectation_from_measurements'"
          ]
        }
      ],
      "source": [
        "combined_executor_total = pec.mitigate_executor(combined_executor1,representations=reps)\n",
        "\n",
        "combined_result2 = combined_executor_total(circuit)\n",
        "print(\"Mitigated value obtained with REM + PEC + ZNE:\", \"{:.5f}\".format(combined_result2.real))"
      ]
    },
    {
      "cell_type": "code",
      "execution_count": null,
      "metadata": {
        "id": "QfTYhoHVlm_R"
      },
      "outputs": [],
      "source": [
        "# Random seed for circuit generation.\n",
        "seed = 1\n",
        "\n",
        "# Total number of shots to use.\n",
        "shots: int = 10000\n",
        "\n",
        "# Qubits to use on the experiment.\n",
        "qubits = [0, 1, 2]\n",
        "\n",
        "# Average results over this many trials (circuit instances) at each depth.\n",
        "trials = 3\n",
        "\n",
        "# Clifford depths.\n",
        "depths = [1, 2, 3]\n"
      ]
    },
    {
      "cell_type": "code",
      "source": [
        "import functools\n",
        "from typing import List, Tuple\n",
        "\n"
      ],
      "metadata": {
        "id": "DrPnOWZ5FrWO"
      },
      "execution_count": null,
      "outputs": []
    },
    {
      "cell_type": "code",
      "source": [
        "from mitiq.benchmarks import generate_rb_circuits"
      ],
      "metadata": {
        "id": "erramzyFUO8h"
      },
      "execution_count": null,
      "outputs": []
    },
    {
      "cell_type": "code",
      "source": [
        "def get_circuit(depth: int, seed: int) -> Tuple[cirq.Circuit, List[int]]:\n",
        "    circuit =generate_rb_circuits(\n",
        "        n_qubits=2,\n",
        "        num_cliffords=depth,\n",
        "        return_type=\"cirq\",\n",
        "        seed=seed,\n",
        "    )\n",
        "    return circuit"
      ],
      "metadata": {
        "id": "CloOm3uzE7mS"
      },
      "execution_count": null,
      "outputs": []
    },
    {
      "cell_type": "code",
      "execution_count": null,
      "metadata": {
        "colab": {
          "base_uri": "https://localhost:8080/",
          "height": 554
        },
        "id": "bUyEZoyjcTY2",
        "outputId": "2cb357d8-29f9-40f1-fa52-635f19a4c1e0"
      },
      "outputs": [
        {
          "output_type": "stream",
          "name": "stdout",
          "text": [
            "Status: On depth 1\n",
            "\n"
          ]
        },
        {
          "output_type": "error",
          "ename": "TypeError",
          "evalue": "unsupported callable",
          "traceback": [
            "\u001b[0;31m---------------------------------------------------------------------------\u001b[0m",
            "\u001b[0;31mTypeError\u001b[0m                                 Traceback (most recent call last)",
            "\u001b[0;32m/usr/lib/python3.10/inspect.py\u001b[0m in \u001b[0;36m_signature_get_partial\u001b[0;34m(wrapped_sig, partial, extra_args)\u001b[0m\n\u001b[1;32m   1898\u001b[0m     \u001b[0;32mtry\u001b[0m\u001b[0;34m:\u001b[0m\u001b[0;34m\u001b[0m\u001b[0;34m\u001b[0m\u001b[0m\n\u001b[0;32m-> 1899\u001b[0;31m         \u001b[0mba\u001b[0m \u001b[0;34m=\u001b[0m \u001b[0mwrapped_sig\u001b[0m\u001b[0;34m.\u001b[0m\u001b[0mbind_partial\u001b[0m\u001b[0;34m(\u001b[0m\u001b[0;34m*\u001b[0m\u001b[0mpartial_args\u001b[0m\u001b[0;34m,\u001b[0m \u001b[0;34m**\u001b[0m\u001b[0mpartial_keywords\u001b[0m\u001b[0;34m)\u001b[0m\u001b[0;34m\u001b[0m\u001b[0;34m\u001b[0m\u001b[0m\n\u001b[0m\u001b[1;32m   1900\u001b[0m     \u001b[0;32mexcept\u001b[0m \u001b[0mTypeError\u001b[0m \u001b[0;32mas\u001b[0m \u001b[0mex\u001b[0m\u001b[0;34m:\u001b[0m\u001b[0;34m\u001b[0m\u001b[0;34m\u001b[0m\u001b[0m\n",
            "\u001b[0;32m/usr/lib/python3.10/inspect.py\u001b[0m in \u001b[0;36mbind_partial\u001b[0;34m(self, *args, **kwargs)\u001b[0m\n\u001b[1;32m   3192\u001b[0m         \"\"\"\n\u001b[0;32m-> 3193\u001b[0;31m         \u001b[0;32mreturn\u001b[0m \u001b[0mself\u001b[0m\u001b[0;34m.\u001b[0m\u001b[0m_bind\u001b[0m\u001b[0;34m(\u001b[0m\u001b[0margs\u001b[0m\u001b[0;34m,\u001b[0m \u001b[0mkwargs\u001b[0m\u001b[0;34m,\u001b[0m \u001b[0mpartial\u001b[0m\u001b[0;34m=\u001b[0m\u001b[0;32mTrue\u001b[0m\u001b[0;34m)\u001b[0m\u001b[0;34m\u001b[0m\u001b[0;34m\u001b[0m\u001b[0m\n\u001b[0m\u001b[1;32m   3194\u001b[0m \u001b[0;34m\u001b[0m\u001b[0m\n",
            "\u001b[0;32m/usr/lib/python3.10/inspect.py\u001b[0m in \u001b[0;36m_bind\u001b[0;34m(self, args, kwargs, partial)\u001b[0m\n\u001b[1;32m   3174\u001b[0m             \u001b[0;32melse\u001b[0m\u001b[0;34m:\u001b[0m\u001b[0;34m\u001b[0m\u001b[0;34m\u001b[0m\u001b[0m\n\u001b[0;32m-> 3175\u001b[0;31m                 raise TypeError(\n\u001b[0m\u001b[1;32m   3176\u001b[0m                     'got an unexpected keyword argument {arg!r}'.format(\n",
            "\u001b[0;31mTypeError\u001b[0m: got an unexpected keyword argument 'shots'",
            "\nThe above exception was the direct cause of the following exception:\n",
            "\u001b[0;31mValueError\u001b[0m                                Traceback (most recent call last)",
            "\u001b[0;32m/usr/lib/python3.10/inspect.py\u001b[0m in \u001b[0;36mgetfullargspec\u001b[0;34m(func)\u001b[0m\n\u001b[1;32m   1276\u001b[0m \u001b[0;34m\u001b[0m\u001b[0m\n\u001b[0;32m-> 1277\u001b[0;31m         sig = _signature_from_callable(func,\n\u001b[0m\u001b[1;32m   1278\u001b[0m                                        \u001b[0mfollow_wrapper_chains\u001b[0m\u001b[0;34m=\u001b[0m\u001b[0;32mFalse\u001b[0m\u001b[0;34m,\u001b[0m\u001b[0;34m\u001b[0m\u001b[0;34m\u001b[0m\u001b[0m\n",
            "\u001b[0;32m/usr/lib/python3.10/inspect.py\u001b[0m in \u001b[0;36m_signature_from_callable\u001b[0;34m(obj, follow_wrapper_chains, skip_bound_arg, globals, locals, eval_str, sigcls)\u001b[0m\n\u001b[1;32m   2472\u001b[0m         \u001b[0mwrapped_sig\u001b[0m \u001b[0;34m=\u001b[0m \u001b[0m_get_signature_of\u001b[0m\u001b[0;34m(\u001b[0m\u001b[0mobj\u001b[0m\u001b[0;34m.\u001b[0m\u001b[0mfunc\u001b[0m\u001b[0;34m)\u001b[0m\u001b[0;34m\u001b[0m\u001b[0;34m\u001b[0m\u001b[0m\n\u001b[0;32m-> 2473\u001b[0;31m         \u001b[0;32mreturn\u001b[0m \u001b[0m_signature_get_partial\u001b[0m\u001b[0;34m(\u001b[0m\u001b[0mwrapped_sig\u001b[0m\u001b[0;34m,\u001b[0m \u001b[0mobj\u001b[0m\u001b[0;34m)\u001b[0m\u001b[0;34m\u001b[0m\u001b[0;34m\u001b[0m\u001b[0m\n\u001b[0m\u001b[1;32m   2474\u001b[0m \u001b[0;34m\u001b[0m\u001b[0m\n",
            "\u001b[0;32m/usr/lib/python3.10/inspect.py\u001b[0m in \u001b[0;36m_signature_get_partial\u001b[0;34m(wrapped_sig, partial, extra_args)\u001b[0m\n\u001b[1;32m   1901\u001b[0m         \u001b[0mmsg\u001b[0m \u001b[0;34m=\u001b[0m \u001b[0;34m'partial object {!r} has incorrect arguments'\u001b[0m\u001b[0;34m.\u001b[0m\u001b[0mformat\u001b[0m\u001b[0;34m(\u001b[0m\u001b[0mpartial\u001b[0m\u001b[0;34m)\u001b[0m\u001b[0;34m\u001b[0m\u001b[0;34m\u001b[0m\u001b[0m\n\u001b[0;32m-> 1902\u001b[0;31m         \u001b[0;32mraise\u001b[0m \u001b[0mValueError\u001b[0m\u001b[0;34m(\u001b[0m\u001b[0mmsg\u001b[0m\u001b[0;34m)\u001b[0m \u001b[0;32mfrom\u001b[0m \u001b[0mex\u001b[0m\u001b[0;34m\u001b[0m\u001b[0;34m\u001b[0m\u001b[0m\n\u001b[0m\u001b[1;32m   1903\u001b[0m \u001b[0;34m\u001b[0m\u001b[0m\n",
            "\u001b[0;31mValueError\u001b[0m: partial object functools.partial(<function execute at 0x79eba2028790>, shots=10000) has incorrect arguments",
            "\nThe above exception was the direct cause of the following exception:\n",
            "\u001b[0;31mTypeError\u001b[0m                                 Traceback (most recent call last)",
            "\u001b[0;32m<ipython-input-98-580433831975>\u001b[0m in \u001b[0;36m<cell line: 9>\u001b[0;34m()\u001b[0m\n\u001b[1;32m     25\u001b[0m \u001b[0;34m\u001b[0m\u001b[0m\n\u001b[1;32m     26\u001b[0m \u001b[0;31m#print(\"Unmitigated value:\", \"{:.5f}\".format(noisy.real))\u001b[0m\u001b[0;34m\u001b[0m\u001b[0;34m\u001b[0m\u001b[0m\n\u001b[0;32m---> 27\u001b[0;31m         ddd_value = ddd.execute_with_ddd(\n\u001b[0m\u001b[1;32m     28\u001b[0m            \u001b[0mcircuit\u001b[0m\u001b[0;34m,\u001b[0m\u001b[0;34m\u001b[0m\u001b[0;34m\u001b[0m\u001b[0m\n\u001b[1;32m     29\u001b[0m            \u001b[0mnoisy_executor\u001b[0m\u001b[0;34m,\u001b[0m\u001b[0;34m\u001b[0m\u001b[0;34m\u001b[0m\u001b[0m\n",
            "\u001b[0;32m/usr/local/lib/python3.10/dist-packages/mitiq/ddd/ddd.py\u001b[0m in \u001b[0;36mexecute_with_ddd\u001b[0;34m(circuit, executor, observable, rule, rule_args, num_trials, full_output)\u001b[0m\n\u001b[1;32m     58\u001b[0m     \u001b[0;31m# Initialize executor\u001b[0m\u001b[0;34m\u001b[0m\u001b[0;34m\u001b[0m\u001b[0m\n\u001b[1;32m     59\u001b[0m     \u001b[0;32mif\u001b[0m \u001b[0;32mnot\u001b[0m \u001b[0misinstance\u001b[0m\u001b[0;34m(\u001b[0m\u001b[0mexecutor\u001b[0m\u001b[0;34m,\u001b[0m \u001b[0mExecutor\u001b[0m\u001b[0;34m)\u001b[0m\u001b[0;34m:\u001b[0m\u001b[0;34m\u001b[0m\u001b[0;34m\u001b[0m\u001b[0m\n\u001b[0;32m---> 60\u001b[0;31m         \u001b[0mexecutor\u001b[0m \u001b[0;34m=\u001b[0m \u001b[0mExecutor\u001b[0m\u001b[0;34m(\u001b[0m\u001b[0mexecutor\u001b[0m\u001b[0;34m)\u001b[0m\u001b[0;34m\u001b[0m\u001b[0;34m\u001b[0m\u001b[0m\n\u001b[0m\u001b[1;32m     61\u001b[0m \u001b[0;34m\u001b[0m\u001b[0m\n\u001b[1;32m     62\u001b[0m     \u001b[0mrule_partial\u001b[0m\u001b[0;34m:\u001b[0m \u001b[0mCallable\u001b[0m\u001b[0;34m[\u001b[0m\u001b[0;34m[\u001b[0m\u001b[0mint\u001b[0m\u001b[0;34m]\u001b[0m\u001b[0;34m,\u001b[0m \u001b[0mQPROGRAM\u001b[0m\u001b[0;34m]\u001b[0m\u001b[0;34m\u001b[0m\u001b[0;34m\u001b[0m\u001b[0m\n",
            "\u001b[0;32m/usr/local/lib/python3.10/dist-packages/mitiq/executor/executor.py\u001b[0m in \u001b[0;36m__init__\u001b[0;34m(self, executor, max_batch_size)\u001b[0m\n\u001b[1;32m     76\u001b[0m         \u001b[0mself\u001b[0m\u001b[0;34m.\u001b[0m\u001b[0m_executor\u001b[0m \u001b[0;34m=\u001b[0m \u001b[0mexecutor\u001b[0m\u001b[0;34m\u001b[0m\u001b[0;34m\u001b[0m\u001b[0m\n\u001b[1;32m     77\u001b[0m \u001b[0;34m\u001b[0m\u001b[0m\n\u001b[0;32m---> 78\u001b[0;31m         \u001b[0mexecutor_annotation\u001b[0m \u001b[0;34m=\u001b[0m \u001b[0minspect\u001b[0m\u001b[0;34m.\u001b[0m\u001b[0mgetfullargspec\u001b[0m\u001b[0;34m(\u001b[0m\u001b[0mexecutor\u001b[0m\u001b[0;34m)\u001b[0m\u001b[0;34m.\u001b[0m\u001b[0mannotations\u001b[0m\u001b[0;34m\u001b[0m\u001b[0;34m\u001b[0m\u001b[0m\n\u001b[0m\u001b[1;32m     79\u001b[0m         \u001b[0mself\u001b[0m\u001b[0;34m.\u001b[0m\u001b[0m_executor_return_type\u001b[0m \u001b[0;34m=\u001b[0m \u001b[0mexecutor_annotation\u001b[0m\u001b[0;34m.\u001b[0m\u001b[0mget\u001b[0m\u001b[0;34m(\u001b[0m\u001b[0;34m\"return\"\u001b[0m\u001b[0;34m)\u001b[0m\u001b[0;34m\u001b[0m\u001b[0;34m\u001b[0m\u001b[0m\n\u001b[1;32m     80\u001b[0m         \u001b[0mself\u001b[0m\u001b[0;34m.\u001b[0m\u001b[0m_max_batch_size\u001b[0m \u001b[0;34m=\u001b[0m \u001b[0mmax_batch_size\u001b[0m\u001b[0;34m\u001b[0m\u001b[0;34m\u001b[0m\u001b[0m\n",
            "\u001b[0;32m/usr/lib/python3.10/inspect.py\u001b[0m in \u001b[0;36mgetfullargspec\u001b[0;34m(func)\u001b[0m\n\u001b[1;32m   1285\u001b[0m         \u001b[0;31m# else. So to be fully backwards compatible, we catch all\u001b[0m\u001b[0;34m\u001b[0m\u001b[0;34m\u001b[0m\u001b[0m\n\u001b[1;32m   1286\u001b[0m         \u001b[0;31m# possible exceptions here, and reraise a TypeError.\u001b[0m\u001b[0;34m\u001b[0m\u001b[0;34m\u001b[0m\u001b[0m\n\u001b[0;32m-> 1287\u001b[0;31m         \u001b[0;32mraise\u001b[0m \u001b[0mTypeError\u001b[0m\u001b[0;34m(\u001b[0m\u001b[0;34m'unsupported callable'\u001b[0m\u001b[0;34m)\u001b[0m \u001b[0;32mfrom\u001b[0m \u001b[0mex\u001b[0m\u001b[0;34m\u001b[0m\u001b[0;34m\u001b[0m\u001b[0m\n\u001b[0m\u001b[1;32m   1288\u001b[0m \u001b[0;34m\u001b[0m\u001b[0m\n\u001b[1;32m   1289\u001b[0m     \u001b[0margs\u001b[0m \u001b[0;34m=\u001b[0m \u001b[0;34m[\u001b[0m\u001b[0;34m]\u001b[0m\u001b[0;34m\u001b[0m\u001b[0;34m\u001b[0m\u001b[0m\n",
            "\u001b[0;31mTypeError\u001b[0m: unsupported callable"
          ]
        }
      ],
      "source": [
        "true_values, noisy_values = [], []\n",
        "ddd_values = [] #\n",
        "zne_values=[]\n",
        "pec_values=[]\n",
        "rem_values=[]\n",
        "\n",
        "noise_scaled_expectation_values = []\n",
        "\n",
        "for depth in depths:\n",
        "    print(\"Status: On depth\", depth, end=\"\\n\\n\")\n",
        "\n",
        "    true_depth_values, noisy_depth_values, ddd_depth_values,zne_depth_values,pec_depth_values,rem_depth_values = [], [], [],[], [], []\n",
        "\n",
        "    for trial in range(trials):\n",
        "        # Local seed is calculated in this way to ensure that we don't get repeated values in loop.\n",
        "        local_seed = 10**6 * depth + 10**3 * seed + trial\n",
        "\n",
        "        circuit = get_circuit(depth, local_seed)\n",
        "\n",
        "        true_value = raw.execute(circuit, partial(execute, noise_level=0, p0=0), obs)\n",
        "        noisy_value = raw.execute(circuit, execute, obs)\n",
        "        noisy_executor = functools.partial(\n",
        "            execute,\n",
        "            shots=shots)\n",
        "\n",
        "#print(\"Unmitigated value:\", \"{:.5f}\".format(noisy.real))\n",
        "        ddd_value = ddd.execute_with_ddd(\n",
        "           circuit,\n",
        "           noisy_executor,\n",
        "           rule=rule,\n",
        "       )\n",
        "      #  ddd_executor= ddd.mitigate_executor(noisy_executor,observable=obs,rule=rule)\n",
        "       # ddd_value=ddd_executor(circuit)\n",
        "\n",
        "\n",
        "\n",
        "        ddd_depth_values.append(ddd_value)\n",
        "\n",
        "        true_depth_values.append(true_value)\n",
        "        noisy_depth_values.append(noisy_value)\n",
        "\n",
        "    true_values.append(true_depth_values)\n",
        "    noisy_values.append(noisy_depth_values)\n",
        "    ddd_values.append(ddd_depth_values)"
      ]
    },
    {
      "cell_type": "code",
      "source": [
        "ddd_executor= ddd.mitigate_executor(execute,observable=obs,rule=rule)\n",
        "ddd_result= ddd_executor(circuit)\n",
        "print(\"Mitigated value obtained with DDD:\", \"{:.5f}\".format(ddd_result.real))\n"
      ],
      "metadata": {
        "id": "5pbuSeYS5Q0c"
      },
      "execution_count": null,
      "outputs": []
    },
    {
      "cell_type": "markdown",
      "metadata": {
        "id": "hRVdiHd-1Dip"
      },
      "source": [
        "#MIRROR CIRCUITS"
      ]
    },
    {
      "cell_type": "code",
      "execution_count": null,
      "metadata": {
        "colab": {
          "base_uri": "https://localhost:8080/",
          "height": 401
        },
        "id": "60KfVZLjz3Me",
        "outputId": "55fc3269-6029-4c6c-b823-c485d438d12f"
      },
      "outputs": [
        {
          "ename": "ImportError",
          "evalue": "cannot import name 'generate_mirror_circuits' from 'mitiq.benchmarks' (/usr/local/lib/python3.10/dist-packages/mitiq/benchmarks/__init__.py)",
          "output_type": "error",
          "traceback": [
            "\u001b[0;31m---------------------------------------------------------------------------\u001b[0m",
            "\u001b[0;31mImportError\u001b[0m                               Traceback (most recent call last)",
            "\u001b[0;32m<ipython-input-39-48a2029e4acc>\u001b[0m in \u001b[0;36m<cell line: 1>\u001b[0;34m()\u001b[0m\n\u001b[0;32m----> 1\u001b[0;31m \u001b[0;32mfrom\u001b[0m \u001b[0mmitiq\u001b[0m\u001b[0;34m.\u001b[0m\u001b[0mbenchmarks\u001b[0m \u001b[0;32mimport\u001b[0m \u001b[0mgenerate_mirror_circuits\u001b[0m\u001b[0;34m\u001b[0m\u001b[0;34m\u001b[0m\u001b[0m\n\u001b[0m\u001b[1;32m      2\u001b[0m \u001b[0;32mimport\u001b[0m \u001b[0mfunctools\u001b[0m\u001b[0;34m\u001b[0m\u001b[0;34m\u001b[0m\u001b[0m\n\u001b[1;32m      3\u001b[0m \u001b[0;32mfrom\u001b[0m \u001b[0mtyping\u001b[0m \u001b[0;32mimport\u001b[0m \u001b[0mList\u001b[0m\u001b[0;34m,\u001b[0m \u001b[0mTuple\u001b[0m\u001b[0;34m\u001b[0m\u001b[0;34m\u001b[0m\u001b[0m\n\u001b[1;32m      4\u001b[0m \u001b[0;34m\u001b[0m\u001b[0m\n\u001b[1;32m      5\u001b[0m \u001b[0;31m# Plotting imports.\u001b[0m\u001b[0;34m\u001b[0m\u001b[0;34m\u001b[0m\u001b[0m\n",
            "\u001b[0;31mImportError\u001b[0m: cannot import name 'generate_mirror_circuits' from 'mitiq.benchmarks' (/usr/local/lib/python3.10/dist-packages/mitiq/benchmarks/__init__.py)",
            "",
            "\u001b[0;31m---------------------------------------------------------------------------\u001b[0;32m\nNOTE: If your import is failing due to a missing package, you can\nmanually install dependencies using either !pip or !apt.\n\nTo view examples of installing some common dependencies, click the\n\"Open Examples\" button below.\n\u001b[0;31m---------------------------------------------------------------------------\u001b[0m\n"
          ]
        }
      ],
      "source": [
        "from mitiq.benchmarks import generate_mirror_circuits\n",
        "import functools\n",
        "from typing import List, Tuple\n",
        "import networkx as nx\n",
        "import numpy as np\n",
        "# Plotting imports.\n",
        "import matplotlib.pyplot as plt\n",
        "\n",
        "plt.rcParams.update({\"font.family\": \"serif\", \"font.size\": 15})\n",
        "%matplotlib inline\n",
        "from mitiq import ddd"
      ]
    },
    {
      "cell_type": "code",
      "execution_count": null,
      "metadata": {
        "id": "XEJev3tp3_EX"
      },
      "outputs": [],
      "source": [
        "import functools\n",
        "from typing import List, Tuple\n",
        "\n",
        "# Plotting imports.\n",
        "import matplotlib.pyplot as plt\n",
        "\n",
        "plt.rcParams.update({\"font.family\": \"serif\", \"font.size\": 15})\n",
        "%matplotlib inline\n",
        "\n",
        "# Third-party imports.\n",
        "import cirq\n",
        "\n",
        "import networkx as nx\n",
        "import numpy as np\n",
        "\n",
        "# Mitiq imports.\n",
        "from mitiq import benchmarks, ddd"
      ]
    },
    {
      "cell_type": "code",
      "execution_count": null,
      "metadata": {
        "id": "5_C1ivml4J3U"
      },
      "outputs": [],
      "source": [
        "# Random seed for circuit generation.\n",
        "seed = 1\n",
        "\n",
        "# Total number of shots to use.\n",
        "shots: int = 10000\n",
        "\n",
        "# Qubits to use on the experiment.\n",
        "qubits = [0, 1, 2]\n",
        "\n",
        "# Average results over this many trials (circuit instances) at each depth.\n",
        "trials = 3\n",
        "\n",
        "# Clifford depths.\n",
        "depths = [10, 20, 30]"
      ]
    },
    {
      "cell_type": "code",
      "execution_count": null,
      "metadata": {
        "colab": {
          "base_uri": "https://localhost:8080/",
          "height": 516
        },
        "id": "fmgpycKm4NRC",
        "outputId": "0b6e04e1-3809-49c4-b33a-a597dfa3f782"
      },
      "outputs": [
        {
          "data": {
            "image/png": "[encoded data removed]",
            "text/plain": [
              "<Figure size 640x480 with 1 Axes>"
            ]
          },
          "metadata": {},
          "output_type": "display_data"
        }
      ],
      "source": [
        "# Assume chain-like connectivity\n",
        "topology = nx.Graph()\n",
        "topology.add_edges_from([(0, 1), (1, 2)])\n",
        "nx.draw(topology, with_labels=True)\n",
        "\n",
        "# Add reversed edges to topology graph.\n",
        "# This is important to represent CNOT gates with target and control reversed.\n",
        "topology = nx.to_directed(topology)"
      ]
    },
    {
      "cell_type": "markdown",
      "metadata": {
        "id": "jkqU_6ei4ROH"
      },
      "source": [
        "##GENERATE MIRROR CIRCUIT\n"
      ]
    },
    {
      "cell_type": "code",
      "execution_count": null,
      "metadata": {
        "id": "-2XXF_h54UlS"
      },
      "outputs": [],
      "source": [
        "def get_circuit(depth: int, seed: int) -> Tuple[cirq.Circuit, List[int]]:\n",
        "    circuit, correct_bitstring = benchmarks.generate_mirror_circuit(\n",
        "        nlayers=depth,\n",
        "        two_qubit_gate_prob=1.0,\n",
        "        connectivity_graph=topology,\n",
        "        two_qubit_gate_name=\"CNOT\",\n",
        "        seed=seed,\n",
        "        return_type=\"cirq\",\n",
        "    )\n",
        "    return circuit, correct_bitstring"
      ]
    },
    {
      "cell_type": "code",
      "execution_count": null,
      "metadata": {
        "colab": {
          "base_uri": "https://localhost:8080/"
        },
        "id": "vu-_AHtf4Y5e",
        "outputId": "b9de2ab7-6dd6-4aeb-9c92-f1137e7c50eb"
      },
      "outputs": [
        {
          "name": "stdout",
          "output_type": "stream",
          "text": [
            "0: ───X────────Y^-0.5───I───@────────────────I───@──────────────I───Y^-0.5───X^-0.5───Y^0.5───Y───X^0.5───Y^0───Y───Y^-0.5───X^0.5───Y^-0.5───Z───@────────────────────────I───@─────────I───@──────────────Y───Y───X───X───@─────────────Z───Y^0.5───X^0.5───Z───Y^-0.5───X^0.5───Z───Y^-0.5───X^0.5───Y^-0.5───X───X^-0.5───Y^0.5───I───Y^0.5───X^-0.5───Y───@────────────────X───X^-0.5───Y^0───Z───@───────────I───Y^-0.5───X^-0.5───X───Y^-0.5───X^0.5───Y^-0.5───Y───@───────────I───@──────────────I───@────────────Y───@──────────────Y───X───Y^0───X───X^0───X───@─────X───@─────────────────Z───X^-0.5───Y^-0.5───X───@───────────X────────────@───Z───Y^0.5───X^0.5───X───────────@───────X───@─────I───X^0───Y───Y^0───X───I─────────@───────Z───────────@───Z─────────@───────I────────────@───I───Y^0.5───X^-0.5───Y^0.5───Z───X^0.5───Y^0.5───Y────────────@───Z───Y^0───X^0.5───Z───────────@────────Z───X^0.5───Y^-0.5───X───Y^-0.5───X^0.5───Y───Y^0.5───X^-0.5───Y^0.5───Z───X^-0.5───Y^0.5───Y───X^-0.5───Y^-0.5───X─────────@────────Y───X───Y───X─────────@───────I─────────@───Y─────────────────────@───────Y───Y^0.5───X^-0.5───Y^0.5───X───Y^0───X^-0.5───Y───Y^-0.5───X^0.5───Y^0.5───I─────────@───────X────────────@───────I───Y^0.5───X───────\n",
            "                            │                    │                                                                                                │                            │             │                              │                                                                                                                                  │                                       │                                                                   │               │                  │                │                                          │         │                                           │                        │                                   │           │                                       │                   │             │                    │                                                                 │                                 │                                                                                                                                    │                              │                 │                         │                                                                                              │                    │\n",
            "1: ───Y────────X────────I───X────────────────Y───X──────────────X───@─────────────────────────Y───@─────────────Y───@─────────────────────────X───X────────────────────────Y───X─────────Z───X──────────────X───@───────I───X─────────────Y───@───────────────I───@────────────────I───@─────────────────────────Z───@────────────────Z───@────────────────Z───X────────────────I───@──────────────Z───X───────────X───@─────────────────I───@─────────────────────────I───X───────────X───X──────────────X───X────────────Y───X──────────────Z───@─────────I───@─────X───X─────I───X─────────────────I───@─────────────────X───X───────────Z────────────X───X───────────@───────Y───────────X───────Y───X─────Z───@─────Z─────────@───Y─────────X───────X───────────X───X─────────X───────X────────────X───Z────────────────────@───────Y───────────@───────I────────────X───X─────────@───────Y───────────X────────I───────────@────────I────────────@───────Z────────────────────@───────Y────────────@───────I────────────@────────X─────────X────────Z───────@───X─────────X───────Y─────────X───Y─────────────────────X───────I────────────────────@───────I─────────@────────X────────────────────@───────Y─────────X───────X────────────X───────I───X───────Y───────\n",
            "                                                                    │                             │                 │                                                                                           │                             │                   │                    │                             │                    │                                         │                                  │                     │                                                                                                    │             │                                         │                                                              │                                         │               │                                                                                             │                   │                                  │                                        │                     │                            │                    │                    │                                   │                                                                                      │                 │                             │\n",
            "2: ───Y^-0.5───X^-0.5───X───Y^-0.5───X^0.5───Z───X^-0.5───Y^0───Z───X─────────────────────────I───X─────────────Z───X─────────────────────────I───Y^-0.5───X^0.5───Y^0.5───Y───X───Y^0───Y───Y^-0.5───X^0───Y───X───────X───X^0.5───Y^0───I───X───────────────I───X────────────────I───X─────────────────────────I───X────────────────Z───X────────────────X───X^0.5───Y^-0.5───I───X──────────────X───Y───X^0.5───Y───X─────────────────Z───X─────────────────────────Z───Y───X^0.5───Y───X^-0.5───Y^0───Z───X───Y^-0.5───Z───X^-0.5───Y^0───Z───X─────────I───X─────X───X^0───I───X^-0.5───Y^-0.5───Y───X─────────────────Y───X───Y^0.5───Z───Y^-0.5───X───I───────────X───────I───Y^0.5───X^0.5───I───X^0───I───X─────X─────────X───I───Y^0───X^0.5───Y───Y^0.5───X───X───Y^0───X^0.5───I───X^-0.5───Y───I────────────────────X───────Z───────────X───────I───X^-0.5───Y───X─────────X───────Z───Y^0.5───X^-0.5───I───────────X────────X────────────X───────Y────────────────────X───────Y────────────X───────Y────────────X────────X───Y^0───X^-0.5───Y───────X───Z───X^0───Y^0.5───Y───Y^0───X───X───Y^-0.5───X^-0.5───Y^0.5───Z────────────────────X───────I─────────X────────Z────────────────────X───────X───Y^0───X^0.5───X───X^-0.5───Y^0.5───I───X^0.5───Y^0.5───\n"
          ]
        }
      ],
      "source": [
        "print(circuit)"
      ]
    },
    {
      "cell_type": "code",
      "execution_count": null,
      "metadata": {
        "colab": {
          "base_uri": "https://localhost:8080/",
          "height": 220
        },
        "id": "GBfPSE4n-CAa",
        "outputId": "ed2b2fd5-3969-4163-9f15-5e005a5b4221"
      },
      "outputs": [
        {
          "ename": "TypeError",
          "evalue": "generate_mirror_circuit() missing 1 required positional argument: 'connectivity_graph'",
          "output_type": "error",
          "traceback": [
            "\u001b[0;31m---------------------------------------------------------------------------\u001b[0m",
            "\u001b[0;31mTypeError\u001b[0m                                 Traceback (most recent call last)",
            "\u001b[0;32m<ipython-input-67-5e18bf5e7f85>\u001b[0m in \u001b[0;36m<cell line: 1>\u001b[0;34m()\u001b[0m\n\u001b[0;32m----> 1\u001b[0;31m circuit, correct_bitstring = benchmarks.generate_mirror_circuit(\n\u001b[0m\u001b[1;32m      2\u001b[0m     \u001b[0mnlayers\u001b[0m\u001b[0;34m=\u001b[0m\u001b[0;36m1\u001b[0m\u001b[0;34m,\u001b[0m\u001b[0;34m\u001b[0m\u001b[0;34m\u001b[0m\u001b[0m\n\u001b[1;32m      3\u001b[0m     \u001b[0mtwo_qubit_gate_prob\u001b[0m\u001b[0;34m=\u001b[0m\u001b[0;36m1.0\u001b[0m\u001b[0;34m,\u001b[0m\u001b[0;34m\u001b[0m\u001b[0;34m\u001b[0m\u001b[0m\n\u001b[1;32m      4\u001b[0m     \u001b[0mtwo_qubit_gate_name\u001b[0m\u001b[0;34m=\u001b[0m\u001b[0;34m\"CZ\"\u001b[0m\u001b[0;34m,\u001b[0m\u001b[0;34m\u001b[0m\u001b[0;34m\u001b[0m\u001b[0m\n\u001b[1;32m      5\u001b[0m     \u001b[0mseed\u001b[0m\u001b[0;34m=\u001b[0m\u001b[0;36m1\u001b[0m\u001b[0;34m,\u001b[0m\u001b[0;34m\u001b[0m\u001b[0;34m\u001b[0m\u001b[0m\n",
            "\u001b[0;31mTypeError\u001b[0m: generate_mirror_circuit() missing 1 required positional argument: 'connectivity_graph'"
          ]
        }
      ],
      "source": [
        "circuit, correct_bitstring = benchmarks.generate_mirror_circuit(\n",
        "    nlayers=1,\n",
        "    two_qubit_gate_prob=1.0,\n",
        "    two_qubit_gate_name=\"CZ\",\n",
        "    connectivity_graph=connectivity_graph,\n",
        "    seed=1,\n",
        "    return_type=\"braket\",\n",
        ")\n",
        "print(circuit)\n",
        "print(\"\\nShould sample:\", correct_bitstring)"
      ]
    },
    {
      "cell_type": "markdown",
      "metadata": {
        "id": "WPzSlkDu4oXI"
      },
      "source": [
        "### DEFINE THE EXECUTOR FOR MIRROR CIRCUIT"
      ]
    },
    {
      "cell_type": "code",
      "execution_count": null,
      "metadata": {
        "id": "bNBQwMaf4tnm"
      },
      "outputs": [],
      "source": [
        "def execute(\n",
        "    circuit: cirq.Circuit,\n",
        "    shots: 100,\n",
        "    correct_bitstring: List[int],\n",
        "    is_noisy: bool = True,\n",
        ") -> float:\n",
        "    \"\"\"Executes the input circuit(s) and returns ⟨A⟩, where\n",
        "    A = |correct_bitstring⟩⟨correct_bitstring| for each circuit.\n",
        "    \"\"\"\n",
        "    # This is useful to understand if DDD gates are inserted into the circuit.\n",
        "    print(f\"Executing circuit with {len(list(circuit.all_operations()))} gates.\")\n",
        "    if is_noisy:\n",
        "        # Simulate systematic dephasing (coherent RZ) on each qubit for each moment.\n",
        "        circuit_to_run = circuit.with_noise(cirq.rz(0.05))\n",
        "    else:\n",
        "        circuit_to_run = circuit.copy()\n",
        "\n",
        "    circuit_to_run += cirq.measure(*sorted(circuit.all_qubits()), key=\"m\")\n",
        "    backend = cirq.DensityMatrixSimulator()\n",
        "\n",
        "    result = backend.run(circuit_to_run, repetitions=shots)\n",
        "    expval = result.measurements[\"m\"].tolist().count(correct_bitstring) / shots\n",
        "    return expval"
      ]
    },
    {
      "cell_type": "code",
      "execution_count": null,
      "metadata": {
        "id": "h7Blgnjl4xCV"
      },
      "outputs": [],
      "source": [
        "from mitiq import ddd\n",
        "\n",
        "rule = ddd.rules.yy"
      ]
    },
    {
      "cell_type": "markdown",
      "metadata": {
        "id": "QwdmVL9b53EJ"
      },
      "source": [
        "##BITSTRINGS FOR MIRROR CIRCUITS"
      ]
    },
    {
      "cell_type": "code",
      "execution_count": null,
      "metadata": {
        "colab": {
          "base_uri": "https://localhost:8080/"
        },
        "id": "UboFTen652VJ",
        "outputId": "1010e873-da01-4d76-efbf-af31ce3f9c29"
      },
      "outputs": [
        {
          "name": "stdout",
          "output_type": "stream",
          "text": [
            "Status: On depth 10\n",
            "\n",
            "Executing circuit with 137 gates.\n",
            "Executing circuit with 137 gates.\n",
            "Executing circuit with 157 gates.\n",
            "Executing circuit with 145 gates.\n",
            "Executing circuit with 145 gates.\n",
            "Executing circuit with 180 gates.\n",
            "Executing circuit with 147 gates.\n",
            "Executing circuit with 147 gates.\n",
            "Executing circuit with 178 gates.\n",
            "Status: On depth 20\n",
            "\n",
            "Executing circuit with 261 gates.\n",
            "Executing circuit with 261 gates.\n",
            "Executing circuit with 303 gates.\n",
            "Executing circuit with 261 gates.\n",
            "Executing circuit with 261 gates.\n",
            "Executing circuit with 308 gates.\n",
            "Executing circuit with 261 gates.\n",
            "Executing circuit with 261 gates.\n",
            "Executing circuit with 317 gates.\n",
            "Status: On depth 30\n",
            "\n",
            "Executing circuit with 383 gates.\n",
            "Executing circuit with 383 gates.\n",
            "Executing circuit with 447 gates.\n",
            "Executing circuit with 375 gates.\n",
            "Executing circuit with 375 gates.\n",
            "Executing circuit with 420 gates.\n",
            "Executing circuit with 381 gates.\n",
            "Executing circuit with 381 gates.\n",
            "Executing circuit with 449 gates.\n"
          ]
        }
      ],
      "source": [
        "true_values, noisy_values = [], []\n",
        "ddd_values = []\n",
        "\n",
        "noise_scaled_expectation_values = []\n",
        "\n",
        "for depth in depths:\n",
        "    print(\"Status: On depth\", depth, end=\"\\n\\n\")\n",
        "\n",
        "    true_depth_values, noisy_depth_values, ddd_depth_values = [], [], []\n",
        "\n",
        "    for trial in range(trials):\n",
        "        # Local seed is calculated in this way to ensure that we don't get repeated values in loop.\n",
        "        local_seed = 10**6 * depth + 10**3 * seed + trial\n",
        "\n",
        "        circuit, correct_bitstring = get_circuit(depth, local_seed)\n",
        "\n",
        "        true_value = execute(circuit, shots, correct_bitstring, is_noisy=False)\n",
        "        noisy_value = execute(circuit, shots, correct_bitstring, is_noisy=True)\n",
        "\n",
        "        noisy_executor = functools.partial(\n",
        "            execute,\n",
        "            shots=shots,\n",
        "            correct_bitstring=correct_bitstring,\n",
        "        )\n",
        "\n",
        "        ddd_value = ddd.execute_with_ddd(\n",
        "            circuit,\n",
        "            noisy_executor,\n",
        "            rule=rule,\n",
        "        )\n",
        "\n",
        "        ddd_depth_values.append(ddd_value)\n",
        "\n",
        "        true_depth_values.append(true_value)\n",
        "        noisy_depth_values.append(noisy_value)\n",
        "\n",
        "    true_values.append(true_depth_values)\n",
        "    noisy_values.append(noisy_depth_values)\n",
        "    ddd_values.append(ddd_depth_values)"
      ]
    },
    {
      "cell_type": "markdown",
      "metadata": {
        "id": "w4B310qW6Km7"
      },
      "source": [
        "##VISUALIZATION OF RESULTS"
      ]
    },
    {
      "cell_type": "code",
      "execution_count": null,
      "metadata": {
        "colab": {
          "base_uri": "https://localhost:8080/",
          "height": 528
        },
        "id": "hd0ZgaQw6Jmc",
        "outputId": "d7c851c0-ce69-4369-af57-47362e760ca0"
      },
      "outputs": [
        {
          "data": {
            "image/png": "[encoded data removed]",
            "text/plain": [
              "<Figure size 900x500 with 1 Axes>"
            ]
          },
          "metadata": {},
          "output_type": "display_data"
        }
      ],
      "source": [
        "avg_true_values = np.average(true_values, axis=1)\n",
        "avg_noisy_values = np.average(noisy_values, axis=1)\n",
        "\n",
        "std_true_values = np.std(true_values, axis=1, ddof=1)\n",
        "std_noisy_values = np.std(noisy_values, axis=1, ddof=1)\n",
        "\n",
        "avg_ddd_values = np.average(ddd_values, axis=1)\n",
        "std_ddd_values = np.std(ddd_values, axis=1, ddof=1)\n",
        "\n",
        "plt.figure(figsize=(9, 5))\n",
        "\n",
        "plt.plot(depths, avg_true_values, \"--\", label=\"True\", lw=2)\n",
        "eb = plt.errorbar(depths, avg_noisy_values, yerr=std_noisy_values, label=\"Raw\", ls=\"-.\")\n",
        "eb[-1][0].set_linestyle(\"-.\")\n",
        "plt.errorbar(depths, avg_ddd_values, yerr=std_ddd_values, label=\"DDD\")\n",
        "\n",
        "plt.title(\n",
        "    f\"\"\"Simulator with mirror circuits using ddd \\nqubits {qubits}, {trials} trials.\"\"\"\n",
        ")\n",
        "plt.xlabel(\"Depth\")\n",
        "plt.ylabel(\"Expectation value\")\n",
        "_ = plt.legend()"
      ]
    },
    {
      "cell_type": "code",
      "execution_count": null,
      "metadata": {
        "colab": {
          "base_uri": "https://localhost:8080/",
          "height": 298
        },
        "id": "Yfu64ufM7A19",
        "outputId": "795dc935-6716-40f9-ffeb-f4f4924059db"
      },
      "outputs": [
        {
          "ename": "TypeError",
          "evalue": "execute() missing 2 required positional arguments: 'shots' and 'correct_bitstring'",
          "output_type": "error",
          "traceback": [
            "\u001b[0;31m---------------------------------------------------------------------------\u001b[0m",
            "\u001b[0;31mTypeError\u001b[0m                                 Traceback (most recent call last)",
            "\u001b[0;32m<ipython-input-52-ff6809d90408>\u001b[0m in \u001b[0;36m<cell line: 1>\u001b[0;34m()\u001b[0m\n\u001b[0;32m----> 1\u001b[0;31m \u001b[0mzne_value\u001b[0m \u001b[0;34m=\u001b[0m \u001b[0mzne\u001b[0m\u001b[0;34m.\u001b[0m\u001b[0mexecute_with_zne\u001b[0m\u001b[0;34m(\u001b[0m\u001b[0mcircuit\u001b[0m\u001b[0;34m,\u001b[0m \u001b[0mexecute\u001b[0m\u001b[0;34m)\u001b[0m  \u001b[0;31m# Noisy quantum computer + Mitiq ZNE METHOD\u001b[0m\u001b[0;34m\u001b[0m\u001b[0;34m\u001b[0m\u001b[0m\n\u001b[0m",
            "\u001b[0;32m/usr/local/lib/python3.10/dist-packages/mitiq/zne/zne.py\u001b[0m in \u001b[0;36mexecute_with_zne\u001b[0;34m(circuit, executor, observable, factory, scale_noise, num_to_average)\u001b[0m\n\u001b[1;32m     59\u001b[0m         \u001b[0;32mraise\u001b[0m \u001b[0mValueError\u001b[0m\u001b[0;34m(\u001b[0m\u001b[0;34m\"Argument `num_to_average` must be a positive int.\"\u001b[0m\u001b[0;34m)\u001b[0m\u001b[0;34m\u001b[0m\u001b[0;34m\u001b[0m\u001b[0m\n\u001b[1;32m     60\u001b[0m \u001b[0;34m\u001b[0m\u001b[0m\n\u001b[0;32m---> 61\u001b[0;31m     return factory.run(\n\u001b[0m\u001b[1;32m     62\u001b[0m         \u001b[0mcircuit\u001b[0m\u001b[0;34m,\u001b[0m \u001b[0mexecutor\u001b[0m\u001b[0;34m,\u001b[0m \u001b[0mobservable\u001b[0m\u001b[0;34m,\u001b[0m \u001b[0mscale_noise\u001b[0m\u001b[0;34m,\u001b[0m \u001b[0mint\u001b[0m\u001b[0;34m(\u001b[0m\u001b[0mnum_to_average\u001b[0m\u001b[0;34m)\u001b[0m\u001b[0;34m\u001b[0m\u001b[0;34m\u001b[0m\u001b[0m\n\u001b[1;32m     63\u001b[0m     ).reduce()\n",
            "\u001b[0;32m/usr/local/lib/python3.10/dist-packages/mitiq/zne/inference.py\u001b[0m in \u001b[0;36mrun\u001b[0;34m(self, qp, executor, observable, scale_noise, num_to_average)\u001b[0m\n\u001b[1;32m    566\u001b[0m         \u001b[0;32melse\u001b[0m\u001b[0;34m:\u001b[0m\u001b[0;34m\u001b[0m\u001b[0;34m\u001b[0m\u001b[0m\n\u001b[1;32m    567\u001b[0m             \u001b[0;31m# Else, run all circuits.\u001b[0m\u001b[0;34m\u001b[0m\u001b[0;34m\u001b[0m\u001b[0m\n\u001b[0;32m--> 568\u001b[0;31m             res = executor.evaluate(\n\u001b[0m\u001b[1;32m    569\u001b[0m                 \u001b[0mto_run\u001b[0m\u001b[0;34m,\u001b[0m \u001b[0mobservable\u001b[0m\u001b[0;34m,\u001b[0m \u001b[0mforce_run_all\u001b[0m\u001b[0;34m=\u001b[0m\u001b[0;32mTrue\u001b[0m\u001b[0;34m,\u001b[0m \u001b[0;34m**\u001b[0m\u001b[0mkwargs_list\u001b[0m\u001b[0;34m[\u001b[0m\u001b[0;36m0\u001b[0m\u001b[0;34m]\u001b[0m\u001b[0;34m\u001b[0m\u001b[0;34m\u001b[0m\u001b[0m\n\u001b[1;32m    570\u001b[0m             )\n",
            "\u001b[0;32m/usr/local/lib/python3.10/dist-packages/mitiq/executor/executor.py\u001b[0m in \u001b[0;36mevaluate\u001b[0;34m(self, circuits, observable, force_run_all, **kwargs)\u001b[0m\n\u001b[1;32m    176\u001b[0m \u001b[0;34m\u001b[0m\u001b[0m\n\u001b[1;32m    177\u001b[0m         \u001b[0;31m# Run all required circuits.\u001b[0m\u001b[0;34m\u001b[0m\u001b[0;34m\u001b[0m\u001b[0m\n\u001b[0;32m--> 178\u001b[0;31m         \u001b[0mall_results\u001b[0m \u001b[0;34m=\u001b[0m \u001b[0mself\u001b[0m\u001b[0;34m.\u001b[0m\u001b[0mrun\u001b[0m\u001b[0;34m(\u001b[0m\u001b[0mall_circuits\u001b[0m\u001b[0;34m,\u001b[0m \u001b[0mforce_run_all\u001b[0m\u001b[0;34m,\u001b[0m \u001b[0;34m**\u001b[0m\u001b[0mkwargs\u001b[0m\u001b[0;34m)\u001b[0m\u001b[0;34m\u001b[0m\u001b[0;34m\u001b[0m\u001b[0m\n\u001b[0m\u001b[1;32m    179\u001b[0m \u001b[0;34m\u001b[0m\u001b[0m\n\u001b[1;32m    180\u001b[0m         \u001b[0;31m# Parse the results.\u001b[0m\u001b[0;34m\u001b[0m\u001b[0;34m\u001b[0m\u001b[0m\n",
            "\u001b[0;32m/usr/local/lib/python3.10/dist-packages/mitiq/executor/executor.py\u001b[0m in \u001b[0;36mrun\u001b[0;34m(self, circuits, force_run_all, **kwargs)\u001b[0m\n\u001b[1;32m    254\u001b[0m         \u001b[0;32mif\u001b[0m \u001b[0;32mnot\u001b[0m \u001b[0mself\u001b[0m\u001b[0;34m.\u001b[0m\u001b[0mcan_batch\u001b[0m\u001b[0;34m:\u001b[0m\u001b[0;34m\u001b[0m\u001b[0;34m\u001b[0m\u001b[0m\n\u001b[1;32m    255\u001b[0m             \u001b[0;32mfor\u001b[0m \u001b[0mcircuit\u001b[0m \u001b[0;32min\u001b[0m \u001b[0mto_run\u001b[0m\u001b[0;34m:\u001b[0m\u001b[0;34m\u001b[0m\u001b[0;34m\u001b[0m\u001b[0m\n\u001b[0;32m--> 256\u001b[0;31m                 \u001b[0mself\u001b[0m\u001b[0;34m.\u001b[0m\u001b[0m_call_executor\u001b[0m\u001b[0;34m(\u001b[0m\u001b[0mcircuit\u001b[0m\u001b[0;34m,\u001b[0m \u001b[0;34m**\u001b[0m\u001b[0mkwargs\u001b[0m\u001b[0;34m)\u001b[0m\u001b[0;34m\u001b[0m\u001b[0;34m\u001b[0m\u001b[0m\n\u001b[0m\u001b[1;32m    257\u001b[0m \u001b[0;34m\u001b[0m\u001b[0m\n\u001b[1;32m    258\u001b[0m         \u001b[0;32melse\u001b[0m\u001b[0;34m:\u001b[0m\u001b[0;34m\u001b[0m\u001b[0;34m\u001b[0m\u001b[0m\n",
            "\u001b[0;32m/usr/local/lib/python3.10/dist-packages/mitiq/executor/executor.py\u001b[0m in \u001b[0;36m_call_executor\u001b[0;34m(self, to_run, **kwargs)\u001b[0m\n\u001b[1;32m    291\u001b[0m             \u001b[0mto_run\u001b[0m\u001b[0;34m:\u001b[0m \u001b[0mCircuit\u001b[0m\u001b[0;34m(\u001b[0m\u001b[0ms\u001b[0m\u001b[0;34m)\u001b[0m \u001b[0mto\u001b[0m \u001b[0mrun\u001b[0m\u001b[0;34m.\u001b[0m\u001b[0;34m\u001b[0m\u001b[0;34m\u001b[0m\u001b[0m\n\u001b[1;32m    292\u001b[0m         \"\"\"\n\u001b[0;32m--> 293\u001b[0;31m         \u001b[0mresult\u001b[0m \u001b[0;34m=\u001b[0m \u001b[0mself\u001b[0m\u001b[0;34m.\u001b[0m\u001b[0m_executor\u001b[0m\u001b[0;34m(\u001b[0m\u001b[0mto_run\u001b[0m\u001b[0;34m,\u001b[0m \u001b[0;34m**\u001b[0m\u001b[0mkwargs\u001b[0m\u001b[0;34m)\u001b[0m\u001b[0;34m\u001b[0m\u001b[0;34m\u001b[0m\u001b[0m\n\u001b[0m\u001b[1;32m    294\u001b[0m         \u001b[0mself\u001b[0m\u001b[0;34m.\u001b[0m\u001b[0m_calls_to_executor\u001b[0m \u001b[0;34m+=\u001b[0m \u001b[0;36m1\u001b[0m\u001b[0;34m\u001b[0m\u001b[0;34m\u001b[0m\u001b[0m\n\u001b[1;32m    295\u001b[0m \u001b[0;34m\u001b[0m\u001b[0m\n",
            "\u001b[0;31mTypeError\u001b[0m: execute() missing 2 required positional arguments: 'shots' and 'correct_bitstring'"
          ]
        }
      ],
      "source": [
        "zne_value = zne.execute_with_zne(circuit, execute)  # Noisy quantum computer + Mitiq ZNE METHODb"
      ]
    },
    {
      "cell_type": "code",
      "execution_count": null,
      "metadata": {
        "colab": {
          "base_uri": "https://localhost:8080/",
          "height": 372
        },
        "id": "coRn4M9f8fA6",
        "outputId": "1fc4dab8-b587-4982-9129-7ac635590d9d"
      },
      "outputs": [
        {
          "ename": "TypeError",
          "evalue": "execute() missing 2 required positional arguments: 'shots' and 'correct_bitstring'",
          "output_type": "error",
          "traceback": [
            "\u001b[0;31m---------------------------------------------------------------------------\u001b[0m",
            "\u001b[0;31mTypeError\u001b[0m                                 Traceback (most recent call last)",
            "\u001b[0;32m<ipython-input-64-f0bb98b429b5>\u001b[0m in \u001b[0;36m<cell line: 1>\u001b[0;34m()\u001b[0m\n\u001b[0;32m----> 1\u001b[0;31m zne_value = zne.execute_with_zne(\n\u001b[0m\u001b[1;32m      2\u001b[0m     \u001b[0mcircuit\u001b[0m\u001b[0;34m,\u001b[0m\u001b[0;34m\u001b[0m\u001b[0;34m\u001b[0m\u001b[0m\n\u001b[1;32m      3\u001b[0m     \u001b[0mexecute\u001b[0m\u001b[0;34m,\u001b[0m\u001b[0;34m\u001b[0m\u001b[0;34m\u001b[0m\u001b[0m\n\u001b[1;32m      4\u001b[0m     \u001b[0mscale_noise\u001b[0m\u001b[0;34m=\u001b[0m\u001b[0mzne\u001b[0m\u001b[0;34m.\u001b[0m\u001b[0mscaling\u001b[0m\u001b[0;34m.\u001b[0m\u001b[0mfold_global\u001b[0m\u001b[0;34m,\u001b[0m\u001b[0;34m\u001b[0m\u001b[0;34m\u001b[0m\u001b[0m\n\u001b[1;32m      5\u001b[0m     \u001b[0mfactory\u001b[0m\u001b[0;34m=\u001b[0m\u001b[0mzne\u001b[0m\u001b[0;34m.\u001b[0m\u001b[0minference\u001b[0m\u001b[0;34m.\u001b[0m\u001b[0mPolyFactory\u001b[0m\u001b[0;34m(\u001b[0m\u001b[0mscale_factors\u001b[0m\u001b[0;34m=\u001b[0m\u001b[0;34m[\u001b[0m\u001b[0;36m1\u001b[0m\u001b[0;34m,\u001b[0m \u001b[0;36m3\u001b[0m\u001b[0;34m,\u001b[0m \u001b[0;36m5\u001b[0m\u001b[0;34m]\u001b[0m\u001b[0;34m,\u001b[0m \u001b[0morder\u001b[0m\u001b[0;34m=\u001b[0m\u001b[0;36m2\u001b[0m\u001b[0;34m)\u001b[0m\u001b[0;34m\u001b[0m\u001b[0;34m\u001b[0m\u001b[0m\n",
            "\u001b[0;32m/usr/local/lib/python3.10/dist-packages/mitiq/zne/zne.py\u001b[0m in \u001b[0;36mexecute_with_zne\u001b[0;34m(circuit, executor, observable, factory, scale_noise, num_to_average)\u001b[0m\n\u001b[1;32m     59\u001b[0m         \u001b[0;32mraise\u001b[0m \u001b[0mValueError\u001b[0m\u001b[0;34m(\u001b[0m\u001b[0;34m\"Argument `num_to_average` must be a positive int.\"\u001b[0m\u001b[0;34m)\u001b[0m\u001b[0;34m\u001b[0m\u001b[0;34m\u001b[0m\u001b[0m\n\u001b[1;32m     60\u001b[0m \u001b[0;34m\u001b[0m\u001b[0m\n\u001b[0;32m---> 61\u001b[0;31m     return factory.run(\n\u001b[0m\u001b[1;32m     62\u001b[0m         \u001b[0mcircuit\u001b[0m\u001b[0;34m,\u001b[0m \u001b[0mexecutor\u001b[0m\u001b[0;34m,\u001b[0m \u001b[0mobservable\u001b[0m\u001b[0;34m,\u001b[0m \u001b[0mscale_noise\u001b[0m\u001b[0;34m,\u001b[0m \u001b[0mint\u001b[0m\u001b[0;34m(\u001b[0m\u001b[0mnum_to_average\u001b[0m\u001b[0;34m)\u001b[0m\u001b[0;34m\u001b[0m\u001b[0;34m\u001b[0m\u001b[0m\n\u001b[1;32m     63\u001b[0m     ).reduce()\n",
            "\u001b[0;32m/usr/local/lib/python3.10/dist-packages/mitiq/zne/inference.py\u001b[0m in \u001b[0;36mrun\u001b[0;34m(self, qp, executor, observable, scale_noise, num_to_average)\u001b[0m\n\u001b[1;32m    566\u001b[0m         \u001b[0;32melse\u001b[0m\u001b[0;34m:\u001b[0m\u001b[0;34m\u001b[0m\u001b[0;34m\u001b[0m\u001b[0m\n\u001b[1;32m    567\u001b[0m             \u001b[0;31m# Else, run all circuits.\u001b[0m\u001b[0;34m\u001b[0m\u001b[0;34m\u001b[0m\u001b[0m\n\u001b[0;32m--> 568\u001b[0;31m             res = executor.evaluate(\n\u001b[0m\u001b[1;32m    569\u001b[0m                 \u001b[0mto_run\u001b[0m\u001b[0;34m,\u001b[0m \u001b[0mobservable\u001b[0m\u001b[0;34m,\u001b[0m \u001b[0mforce_run_all\u001b[0m\u001b[0;34m=\u001b[0m\u001b[0;32mTrue\u001b[0m\u001b[0;34m,\u001b[0m \u001b[0;34m**\u001b[0m\u001b[0mkwargs_list\u001b[0m\u001b[0;34m[\u001b[0m\u001b[0;36m0\u001b[0m\u001b[0;34m]\u001b[0m\u001b[0;34m\u001b[0m\u001b[0;34m\u001b[0m\u001b[0m\n\u001b[1;32m    570\u001b[0m             )\n",
            "\u001b[0;32m/usr/local/lib/python3.10/dist-packages/mitiq/executor/executor.py\u001b[0m in \u001b[0;36mevaluate\u001b[0;34m(self, circuits, observable, force_run_all, **kwargs)\u001b[0m\n\u001b[1;32m    176\u001b[0m \u001b[0;34m\u001b[0m\u001b[0m\n\u001b[1;32m    177\u001b[0m         \u001b[0;31m# Run all required circuits.\u001b[0m\u001b[0;34m\u001b[0m\u001b[0;34m\u001b[0m\u001b[0m\n\u001b[0;32m--> 178\u001b[0;31m         \u001b[0mall_results\u001b[0m \u001b[0;34m=\u001b[0m \u001b[0mself\u001b[0m\u001b[0;34m.\u001b[0m\u001b[0mrun\u001b[0m\u001b[0;34m(\u001b[0m\u001b[0mall_circuits\u001b[0m\u001b[0;34m,\u001b[0m \u001b[0mforce_run_all\u001b[0m\u001b[0;34m,\u001b[0m \u001b[0;34m**\u001b[0m\u001b[0mkwargs\u001b[0m\u001b[0;34m)\u001b[0m\u001b[0;34m\u001b[0m\u001b[0;34m\u001b[0m\u001b[0m\n\u001b[0m\u001b[1;32m    179\u001b[0m \u001b[0;34m\u001b[0m\u001b[0m\n\u001b[1;32m    180\u001b[0m         \u001b[0;31m# Parse the results.\u001b[0m\u001b[0;34m\u001b[0m\u001b[0;34m\u001b[0m\u001b[0m\n",
            "\u001b[0;32m/usr/local/lib/python3.10/dist-packages/mitiq/executor/executor.py\u001b[0m in \u001b[0;36mrun\u001b[0;34m(self, circuits, force_run_all, **kwargs)\u001b[0m\n\u001b[1;32m    254\u001b[0m         \u001b[0;32mif\u001b[0m \u001b[0;32mnot\u001b[0m \u001b[0mself\u001b[0m\u001b[0;34m.\u001b[0m\u001b[0mcan_batch\u001b[0m\u001b[0;34m:\u001b[0m\u001b[0;34m\u001b[0m\u001b[0;34m\u001b[0m\u001b[0m\n\u001b[1;32m    255\u001b[0m             \u001b[0;32mfor\u001b[0m \u001b[0mcircuit\u001b[0m \u001b[0;32min\u001b[0m \u001b[0mto_run\u001b[0m\u001b[0;34m:\u001b[0m\u001b[0;34m\u001b[0m\u001b[0;34m\u001b[0m\u001b[0m\n\u001b[0;32m--> 256\u001b[0;31m                 \u001b[0mself\u001b[0m\u001b[0;34m.\u001b[0m\u001b[0m_call_executor\u001b[0m\u001b[0;34m(\u001b[0m\u001b[0mcircuit\u001b[0m\u001b[0;34m,\u001b[0m \u001b[0;34m**\u001b[0m\u001b[0mkwargs\u001b[0m\u001b[0;34m)\u001b[0m\u001b[0;34m\u001b[0m\u001b[0;34m\u001b[0m\u001b[0m\n\u001b[0m\u001b[1;32m    257\u001b[0m \u001b[0;34m\u001b[0m\u001b[0m\n\u001b[1;32m    258\u001b[0m         \u001b[0;32melse\u001b[0m\u001b[0;34m:\u001b[0m\u001b[0;34m\u001b[0m\u001b[0;34m\u001b[0m\u001b[0m\n",
            "\u001b[0;32m/usr/local/lib/python3.10/dist-packages/mitiq/executor/executor.py\u001b[0m in \u001b[0;36m_call_executor\u001b[0;34m(self, to_run, **kwargs)\u001b[0m\n\u001b[1;32m    291\u001b[0m             \u001b[0mto_run\u001b[0m\u001b[0;34m:\u001b[0m \u001b[0mCircuit\u001b[0m\u001b[0;34m(\u001b[0m\u001b[0ms\u001b[0m\u001b[0;34m)\u001b[0m \u001b[0mto\u001b[0m \u001b[0mrun\u001b[0m\u001b[0;34m.\u001b[0m\u001b[0;34m\u001b[0m\u001b[0;34m\u001b[0m\u001b[0m\n\u001b[1;32m    292\u001b[0m         \"\"\"\n\u001b[0;32m--> 293\u001b[0;31m         \u001b[0mresult\u001b[0m \u001b[0;34m=\u001b[0m \u001b[0mself\u001b[0m\u001b[0;34m.\u001b[0m\u001b[0m_executor\u001b[0m\u001b[0;34m(\u001b[0m\u001b[0mto_run\u001b[0m\u001b[0;34m,\u001b[0m \u001b[0;34m**\u001b[0m\u001b[0mkwargs\u001b[0m\u001b[0;34m)\u001b[0m\u001b[0;34m\u001b[0m\u001b[0;34m\u001b[0m\u001b[0m\n\u001b[0m\u001b[1;32m    294\u001b[0m         \u001b[0mself\u001b[0m\u001b[0;34m.\u001b[0m\u001b[0m_calls_to_executor\u001b[0m \u001b[0;34m+=\u001b[0m \u001b[0;36m1\u001b[0m\u001b[0;34m\u001b[0m\u001b[0;34m\u001b[0m\u001b[0m\n\u001b[1;32m    295\u001b[0m \u001b[0;34m\u001b[0m\u001b[0m\n",
            "\u001b[0;31mTypeError\u001b[0m: execute() missing 2 required positional arguments: 'shots' and 'correct_bitstring'"
          ]
        }
      ],
      "source": [
        "zne_value = zne.execute_with_zne(\n",
        "    circuit,\n",
        "    execute,\n",
        "    scale_noise=zne.scaling.fold_global,\n",
        "    factory=zne.inference.PolyFactory(scale_factors=[1, 3, 5], order=2)\n",
        ")\n",
        "print(\"ZNE value:\", zne_value)"
      ]
    }
  ],
  "metadata": {
    "colab": {
      "provenance": []
    },
    "kernelspec": {
      "display_name": "Python 3",
      "name": "python3"
    },
    "language_info": {
      "name": "python"
    }
  },
  "nbformat": 4,
  "nbformat_minor": 0
}
